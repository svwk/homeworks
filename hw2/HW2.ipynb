{
 "nbformat": 4,
 "nbformat_minor": 0,
 "metadata": {
  "kernelspec": {
   "display_name": "Python 3",
   "language": "python",
   "name": "python3"
  },
  "language_info": {
   "codemirror_mode": {
    "name": "ipython",
    "version": 3
   },
   "file_extension": ".py",
   "mimetype": "text/x-python",
   "name": "python",
   "nbconvert_exporter": "python",
   "pygments_lexer": "ipython3",
   "version": "3.7.3"
  },
  "colab": {
   "provenance": [],
   "collapsed_sections": []
  }
 },
 "cells": [
  {
   "cell_type": "code",
   "execution_count": 45,
   "outputs": [],
   "source": [
    "from typing import Optional, List, Any"
   ],
   "metadata": {
    "collapsed": false
   }
  },
  {
   "cell_type": "markdown",
   "source": [
    "## Задача 1\n",
    "### Reversed integer"
   ],
   "metadata": {
    "collapsed": false
   }
  },
  {
   "cell_type": "markdown",
   "source": [
    "Вам дано число целого типа ``a``. Вам необходимо написать функцию, которая принимает это число на вход, а на выход выдает целое число, цифры в котором записаны в обратном порядке.\n",
    "\n",
    "\n",
    "**Sample Input 1:**\n",
    "\n",
    "``\n",
    "a = 123\n",
    "``\n",
    "\n",
    "**Sample Output 1:**\n",
    "\n",
    "``321``\n",
    "\n",
    "**Sample Input 2:**\n",
    "\n",
    "``\n",
    "a = 120\n",
    "``\n",
    "\n",
    "**Sample Output 2:**\n",
    "\n",
    "``21``\n",
    "\n",
    "**Sample Input 3:**\n",
    "\n",
    "``\n",
    "-123\n",
    "``\n",
    "\n",
    "**Sample Output 3:**\n",
    "\n",
    "``321``"
   ],
   "metadata": {
    "id": "nDpM0sXf4dv5"
   }
  },
  {
   "cell_type": "code",
   "source": [
    "def reverse_number(a : int) -> int:\n",
    "    \"\"\"\n",
    "    Находит число, цифры в котором записаны в обратном порядке\n",
    "\n",
    "    Args:\n",
    "        a(int):  Число целого типа, которое необходимо преобразовать\n",
    "\n",
    "    Returns:\n",
    "        int: Число целого типа, цифры в котором записаны в обратном порядке\n",
    "    \"\"\"\n",
    "\n",
    "    reversed_a: int=int(str(a)[::-1])\n",
    "    return reversed_a"
   ],
   "metadata": {
    "id": "zy1TNSPU6ARi"
   },
   "execution_count": 2,
   "outputs": []
  },
  {
   "cell_type": "code",
   "execution_count": 4,
   "outputs": [
    {
     "name": "stdout",
     "output_type": "stream",
     "text": [
      "Перевернутое число:  321\n"
     ]
    }
   ],
   "source": [
    "number_str: str = input(\"Введите число: \")\n",
    "if number_str[0] == \"-\":\n",
    "    number_str=number_str[1:]\n",
    "if number_str.isnumeric():\n",
    "    number: int=int(number_str)\n",
    "    print(\"Перевернутое число: \", reverse_number(number))\n",
    "else:\n",
    "    print(\"Вы ввели неверное число\")\n"
   ],
   "metadata": {
    "collapsed": false
   }
  },
  {
   "cell_type": "markdown",
   "source": [
    "# Задача 2\n",
    "## Выколотый квадрат\n"
   ],
   "metadata": {
    "id": "GT_lUMYz5YfQ"
   }
  },
  {
   "cell_type": "markdown",
   "source": [
    "Напишите функцию, которая принимает единственное число ``n: int``. Это число определяет длину стороны квадрата. Функция должна нарисовать квадрат из звездочек, при этом звездочки должны быть только на ребрах квадрата, центр должен быть выколот.\n",
    "\n",
    "**Sample Input 1:**\n",
    "\n",
    "``\n",
    "n = 5\n",
    "``\n",
    "\n",
    "**Sample Output 1:**\n",
    "```\n",
    "* * * * *\n",
    "*       *\n",
    "*       *\n",
    "*       *\n",
    "* * * * *\n",
    "\n",
    "```"
   ],
   "metadata": {
    "id": "fHOx6Dnu5cEQ"
   }
  },
  {
   "cell_type": "code",
   "source": [
    "def make_square(n: int) -> None:\n",
    "    \"\"\"\n",
    "    Рисует квадрат из звездочек\n",
    "    Args:\n",
    "        n: Длина стороны квадрата\n",
    "\n",
    "    Returns:\n",
    "        None: Ничего не возвращает\n",
    "\n",
    "    \"\"\"\n",
    "\n",
    "    if n<2:\n",
    "        print(\"Сторона квадрата не может быть меньше 2\")\n",
    "        return\n",
    "\n",
    "    for i in range(n):\n",
    "        if i==0 or i==n-1:\n",
    "            print(\" \".join(\"*\"*n))\n",
    "        else:\n",
    "            print((\" \"*(2*n-3)).join(\"*\"*2))\n",
    "\n",
    "\n",
    "number_str: str = input(\"Введите длину стороны квадрата: \")\n",
    "if number_str[0] == \"-\":\n",
    "    number_str=number_str[1:]\n",
    "if number_str.isnumeric():\n",
    "    number: int=int(number_str)\n",
    "    make_square(number)\n",
    "else:\n",
    "    print(\"Вы ввели неверное число\")"
   ],
   "metadata": {
    "id": "JUMn7OVK5_r0"
   },
   "execution_count": 5,
   "outputs": [
    {
     "name": "stdout",
     "output_type": "stream",
     "text": [
      "* * * * *\n",
      "*       *\n",
      "*       *\n",
      "*       *\n",
      "* * * * *\n"
     ]
    }
   ]
  },
  {
   "cell_type": "markdown",
   "source": [
    "# Задача 3\n",
    "## Пермутации"
   ],
   "metadata": {
    "id": "8oZaq3fE6f79"
   }
  },
  {
   "cell_type": "markdown",
   "source": [
    "Вам дан массив с целыми числами ``nums``. Напишите функцию, которая принимает на вход данный массив и возвращает все возможные пермутации с данными числами. Возвращать массивы можно в любом порядке.\n",
    "\n",
    "**Sample Input 1:**\n",
    "\n",
    "``\n",
    "nums = [1,2,3]\n",
    "``\n",
    "\n",
    "**Sample Output 1:**\n",
    "\n",
    "``[[1,2,3],[1,3,2],[2,1,3],[2,3,1],[3,1,2],[3,2,1]]``\n",
    "\n",
    "**Sample Input 2:**\n",
    "\n",
    "``\n",
    "nums = [0,1]\n",
    "``\n",
    "\n",
    "**Sample Output 2:**\n",
    "\n",
    "``[[0,1],[1,0]]``\n",
    "\n",
    "**Sample Input 3:**\n",
    "\n",
    "``\n",
    "nums = [1]\n",
    "``\n",
    "\n",
    "**Sample Output 3:**\n",
    "\n",
    "``[[1]]``"
   ],
   "metadata": {
    "id": "ylJnUpIk6jrX"
   }
  },
  {
   "cell_type": "markdown",
   "source": [
    "Вариант 1"
   ],
   "metadata": {
    "collapsed": false
   }
  },
  {
   "cell_type": "code",
   "source": [
    "import itertools\n",
    "\n",
    "def permutations(numbers: List[int]) -> List[Any]:\n",
    "    \"\"\"\n",
    "    Возвращает все возможные пермутации данных массива\n",
    "\n",
    "    Args:\n",
    "        numbers(List[int]): Массив с целыми числами\n",
    "\n",
    "    Returns:\n",
    "        List[Any]: Массив со всеми возможными пермутациями исходного массива\n",
    "    \"\"\"\n",
    "\n",
    "    return [list(item) for item in itertools.permutations(numbers)]\n",
    "\n",
    "numbers_str: str = input(\"Введите последовательность чисел через пробел: \")\n",
    "nums: list[int] = [int(item) for item in numbers_str.split(' ')]\n",
    "print(permutations(nums))"
   ],
   "metadata": {
    "id": "AzhJABzn7GYR"
   },
   "execution_count": 46,
   "outputs": [
    {
     "name": "stdout",
     "output_type": "stream",
     "text": [
      "[[1, 2, 3], [1, 3, 2], [2, 1, 3], [2, 3, 1], [3, 1, 2], [3, 2, 1]]\n"
     ]
    }
   ]
  },
  {
   "cell_type": "markdown",
   "source": [
    "Вариант 2"
   ],
   "metadata": {
    "collapsed": false
   }
  },
  {
   "cell_type": "code",
   "execution_count": 47,
   "outputs": [
    {
     "name": "stdout",
     "output_type": "stream",
     "text": [
      "[[1, 2, 3], [2, 1, 3], [2, 3, 1], [1, 3, 2], [3, 1, 2], [3, 2, 1]]\n"
     ]
    }
   ],
   "source": [
    "def permutations2(numbers: List[int]) -> List[Any]:\n",
    "    \"\"\"\n",
    "    Возвращает все возможные пермутации данных массива\n",
    "\n",
    "    Args:\n",
    "        numbers(List[int]): Массив с целыми числами\n",
    "\n",
    "    Returns:\n",
    "        List[Any]: Массив со всеми возможными пермутациями исходного массива\n",
    "    \"\"\"\n",
    "\n",
    "    if len(numbers) <= 1:\n",
    "        yield numbers\n",
    "        return\n",
    "    for perm in permutations2(numbers[1:]):\n",
    "        for i in range(len(numbers)):\n",
    "            # nb elements[0:1] works in both string and list contexts\n",
    "            y=perm[:i] + numbers[0:1] + perm[i:]\n",
    "            yield y\n",
    "\n",
    "\n",
    "numbers_str: str = input(\"Введите последовательность чисел через пробел: \")\n",
    "nums: list[int] = [int(item) for item in numbers_str.split(' ')]\n",
    "\n",
    "print(list(permutations2(nums)))"
   ],
   "metadata": {
    "collapsed": false
   }
  },
  {
   "cell_type": "markdown",
   "metadata": {
    "id": "MDEu6tZQYATy"
   },
   "source": [
    "# Задача 4\n",
    "## Почти двойной факториал\n",
    "Дано натуральное $N \\leqslant 100$.  Выведите произведение всех чётных натуральных чисел, не превосходящих $N$."
   ]
  },
  {
   "cell_type": "code",
   "source": [
    "def almost_double_factorial(n:int) -> int:\n",
    "    \"\"\"\n",
    "    Вычисляет почти двойной факториал\n",
    "\n",
    "    Args:\n",
    "        n(int): Натуральное число\n",
    "\n",
    "    Returns:\n",
    "        int: Почти двойной факториал\n",
    "    \"\"\"\n",
    "\n",
    "    factorial : int =1\n",
    "    for x in range(2,n+1,2) :\n",
    "        factorial *= x\n",
    "    return factorial"
   ],
   "metadata": {
    "id": "fjCKZc4Q6aId"
   },
   "execution_count": 18,
   "outputs": []
  },
  {
   "cell_type": "code",
   "metadata": {
    "id": "5GgcNVy1YAT0"
   },
   "source": [
    "N = 25\n",
    "#YOUR CODE\n",
    "N_double_fact = almost_double_factorial(N)\n",
    "assert N_double_fact == 1961990553600, \"Something is wrong! Please try again\"\n",
    "\n",
    "N = 100\n",
    "N_double_fact = almost_double_factorial(N)\n",
    "assert N_double_fact == 34243224702511976248246432895208185975118675053719198827915654463488000000000000, \"Something is wrong! Please try again\""
   ],
   "execution_count": 23,
   "outputs": []
  },
  {
   "cell_type": "markdown",
   "metadata": {
    "id": "A57_204nYAT3"
   },
   "source": [
    "# Задача 5\n",
    "## Хитрая сортировка\n",
    "\n",
    "Пусть у нас есть следующий список, в котором элементы -- tuple из строк:\n",
    "\n",
    "``items = [('one', 'two'), ('three', 'four'), ('five', 'six'), ('string', 'a')]``\n",
    "\n",
    "Мы хотим отсортировать этот список по последней букве второго элемента каждого ``tuple``, т.е. получить такой список:\n",
    "\n",
    "``sorted_items = [('string', 'a'), ('one', 'two'), ('three', 'four'), ('five', 'six')]``.\n",
    "Что нужно вставить вместо \"###\" в следующем выражении, чтобы получить сортировку?\n",
    "\n",
    "``sorted_items = sorted(items, key=lambda x: ###)``"
   ]
  },
  {
   "cell_type": "code",
   "metadata": {
    "id": "SnIk7m_8YAT4"
   },
   "source": [
    "items = [('one', 'two'), ('three', 'four'), ('five', 'six'), ('string', 'a')]\n",
    "\n",
    "sorted_items = sorted(items, key=lambda x: x[1][-1])\n",
    "print(sorted_items)\n",
    "\n",
    "assert sorted_items == [('string', 'a'), ('one', 'two'), ('three', 'four'), ('five', 'six')], \\\n",
    "\"Something is wrong! Please try again\""
   ],
   "execution_count": 22,
   "outputs": [
    {
     "name": "stdout",
     "output_type": "stream",
     "text": [
      "[('string', 'a'), ('one', 'two'), ('three', 'four'), ('five', 'six')]\n"
     ]
    }
   ]
  },
  {
   "cell_type": "markdown",
   "metadata": {
    "id": "f_ggknIxYAT7"
   },
   "source": [
    "# Задача 6\n",
    "## Еще строки\n",
    "\n",
    "Вашей программе на вход подаются три строки ``s, a, b``, состоящие из строчных латинских букв.\n",
    "За одну операцию вы можете заменить все вхождения строки ``a`` в строку ``s`` на строку ``b``.\n",
    "\n",
    "Например, ``s = \"abab\", a = \"ab\", b = \"ba\"``, тогда после выполнения одной операции строка ``s`` перейдет в строку ``\"baba\"``, после выполнения двух и операций – в строку ``\"bbaa\"``, и дальнейшие операции не будут изменять строку ``s``.\n",
    "\n",
    "Необходимо узнать, после какого минимального количества операций в строке ``s`` не останется вхождений строки ``a``. Если операций потребуется более 1000, выведите ``Impossible``.\n",
    "\n",
    "Выведите одно число – минимальное число операций, после применения которых в строке ``s`` не останется вхождений строки ``a``, или ``Impossible``, если операций потребуется более 1000.\n",
    "\n",
    "**Sample Input 1:**\n",
    "\n",
    "``\n",
    "ababa\n",
    "a\n",
    "b\n",
    "``\n",
    "\n",
    "**Sample Output 1:**\n",
    "\n",
    "``1``\n",
    "\n",
    "**Sample Input 2:**\n",
    "\n",
    "``ababa\n",
    "b\n",
    "a``\n",
    "\n",
    "**Sample Output 2:**\n",
    "\n",
    "``1``\n",
    "\n",
    "**Sample Input 3:**\n",
    "\n",
    "``ababa\n",
    "c\n",
    "c``\n",
    "\n",
    "**Sample Output 3:**\n",
    "\n",
    "``0``\n",
    "\n",
    "**Sample Input 4:**\n",
    "\n",
    "``ababac\n",
    "c\n",
    "c``\n",
    "\n",
    "**Sample Output 4:**\n",
    "\n",
    "``Impossible``\n"
   ]
  },
  {
   "cell_type": "code",
   "metadata": {
    "id": "JcLMmkF6YAT8"
   },
   "source": [
    "def my_func(s: str,a: str,b: str) -> any:\n",
    "    \"\"\"\n",
    "    Определяет, после какого минимального количества операций замены в строке s строки a на строку b не останется вхождений строки a\n",
    "    Args:\n",
    "        s(str): Строка, состоящая из строчных латинских букв\n",
    "        a(str): Строка, состоящая из строчных латинских букв\n",
    "        b(str): Строка, состоящая из строчных латинских букв\n",
    "\n",
    "    Returns:\n",
    "        any: Минимальное количество операций замены в строке s строки a на строку b или сообщение о невозможности определить это значение\n",
    "    \"\"\"\n",
    "\n",
    "    new_str: str=s\n",
    "    count: int=0\n",
    "\n",
    "    while a in new_str:\n",
    "        count +=1\n",
    "        if count >1000:\n",
    "            return \"Impossible\"\n",
    "\n",
    "        new_str=new_str.replace(a,b)\n",
    "\n",
    "    return str(count)\n",
    "\n",
    "\n",
    "source_string = input(\"Введите s, a, b через пробел: \")\n",
    "s, a, b = source_string.split(' ')\n",
    "\n",
    "print(my_func(s, a, b))"
   ],
   "execution_count": 21,
   "outputs": [
    {
     "name": "stdout",
     "output_type": "stream",
     "text": [
      "2\n"
     ]
    }
   ]
  },
  {
   "cell_type": "markdown",
   "metadata": {
    "id": "3QOrzr1_YAT_"
   },
   "source": [
    "# Задача 7\n",
    "## Создание массивов\n",
    "Дан массив $A[0,\\ldots,N-1]$. Напишите функцию, принимающую один обязательный аргумент A и один опциональный аргумент ``erase``, по умолчанию равный 1. Возвратите массив $B[0,\\ldots, N-1]$, где $B_i = A_0 + \\ldots + A_{i}$ --- массив частичных сумм массива $A$, предварительно удалив из массива $B$ все элементы, равные erase. Постарайтесь сделать это за линейное время без использования Numpy."
   ]
  },
  {
   "cell_type": "markdown",
   "source": [
    "Вариант 1"
   ],
   "metadata": {
    "collapsed": false
   }
  },
  {
   "cell_type": "code",
   "metadata": {
    "id": "GSeVXF-xYAUA"
   },
   "source": [
    "def cumsum_and_erase(massive: List[int], erase: int= 1) -> List[int]:\n",
    "    \"\"\"\n",
    "    Возвращает массив частичных сумм исходного массива `massive`, предварительно удалив из него все элементы, равные erase. Вариант 1\n",
    "\n",
    "    Args:\n",
    "        massive(List[int]): Исходный массив\n",
    "        erase(int): Значение элементов, которые надо удалить\n",
    "\n",
    "    Returns:\n",
    "        List[int]: Массив частичных сумм\n",
    "    \"\"\"\n",
    "\n",
    "    result: List[int] = []\n",
    "    if not massive :\n",
    "        return result\n",
    "\n",
    "    summa: int =0\n",
    "    for item in massive:\n",
    "        summa += item\n",
    "        if summa != erase:\n",
    "            result.append(summa)\n",
    "\n",
    "    return result\n",
    "\n",
    "\n",
    "A = [5, 1, 4, 5, 14]\n",
    "B = cumsum_and_erase(A, erase=10)\n",
    "print(B)\n",
    "\n",
    "assert B == [5, 6, 15, 29], \"Something is wrong! Please try again\""
   ],
   "execution_count": 48,
   "outputs": [
    {
     "name": "stdout",
     "output_type": "stream",
     "text": [
      "[5, 6, 15, 29]\n"
     ]
    }
   ]
  },
  {
   "cell_type": "markdown",
   "source": [
    "Вариант 2"
   ],
   "metadata": {
    "collapsed": false
   }
  },
  {
   "cell_type": "code",
   "execution_count": 49,
   "outputs": [
    {
     "name": "stdout",
     "output_type": "stream",
     "text": [
      "[5, 6, 15, 29]\n"
     ]
    }
   ],
   "source": [
    "def cumsum_and_erase2(massive: List[int], erase: int= 1) -> List[int]:\n",
    "    \"\"\"\n",
    "    Возвращает массив частичных сумм исходного массива `massive`, предварительно удалив из него все элементы, равные erase. Вариант 2\n",
    "\n",
    "    Args:\n",
    "        massive(List[int]): Исходный массив\n",
    "        erase(int): Значение элементов, которые надо удалить\n",
    "\n",
    "    Returns:\n",
    "        List[int]: Массив частичных сумм\n",
    "    \"\"\"\n",
    "\n",
    "    result: List[int] = []\n",
    "    if not massive :\n",
    "        return result\n",
    "\n",
    "    summa: int =0\n",
    "    def part_sum(number):\n",
    "         nonlocal  summa\n",
    "         summa += number\n",
    "         return summa\n",
    "\n",
    "    result=filter( lambda x: x != erase, map (part_sum,  massive))\n",
    "    return list(result)\n",
    "\n",
    "\n",
    "A = [5, 1, 4, 5, 14]\n",
    "B = cumsum_and_erase2(A, erase=10)\n",
    "print(B)\n",
    "\n",
    "assert B == [5, 6, 15, 29], \"Something is wrong! Please try again\"\n"
   ],
   "metadata": {
    "collapsed": false
   }
  },
  {
   "cell_type": "markdown",
   "source": [
    "Вариант 3"
   ],
   "metadata": {
    "collapsed": false
   }
  },
  {
   "cell_type": "code",
   "execution_count": 50,
   "outputs": [
    {
     "name": "stdout",
     "output_type": "stream",
     "text": [
      "[5, 6, 15, 29]\n"
     ]
    }
   ],
   "source": [
    "def cumsum_and_erase3(massive: List[int], erase: int= 1) -> List[int]:\n",
    "    \"\"\"\n",
    "    Возвращает массив частичных сумм исходного массива `massive`, предварительно удалив из него все элементы, равные erase. Вариант 3\n",
    "\n",
    "    Args:\n",
    "        massive(List[int]): Исходный массив\n",
    "        erase(int): Значение элементов, которые надо удалить\n",
    "\n",
    "    Returns:\n",
    "        List[int]: Массив частичных сумм\n",
    "    \"\"\"\n",
    "\n",
    "    result: List[int] = []\n",
    "    if not massive :\n",
    "        return result\n",
    "\n",
    "    def part_sum():\n",
    "        summa: int =0\n",
    "        for num in massive:\n",
    "            summa += num\n",
    "            if summa == erase:\n",
    "                continue\n",
    "            yield summa\n",
    "\n",
    "    result=[i for i in part_sum()]\n",
    "    return result\n",
    "\n",
    "\n",
    "A = [5, 1, 4, 5, 14]\n",
    "B = cumsum_and_erase3(A, erase=10)\n",
    "print(B)\n",
    "\n",
    "assert B == [5, 6, 15, 29], \"Something is wrong! Please try again\""
   ],
   "metadata": {
    "collapsed": false
   }
  },
  {
   "cell_type": "markdown",
   "metadata": {
    "id": "xvOBFjavYAUD"
   },
   "source": [
    "# Задача 8\n",
    "## Обработка текста\n",
    "Дан список текстов, слова в которых разделены пробелами (можно считать, что знаков препинания нет). Часть слов является \"мусорными\": в них присутствуют цифры и спецсимволы. Отфильтруйте такие слова из каждого текста. Используйте функции ``str.split``, ``str.isalpha``, ``str.join``, а также [генератор filter](http://pythonicway.com/python-functinal-programming)."
   ]
  },
  {
   "cell_type": "code",
   "metadata": {
    "id": "GBzS-UHZYAUE"
   },
   "source": [
    "sentences = ['1 thousand devils', 'My name is 9Pasha', 'Room #125 costs $100']\n",
    "\n",
    "def process(sentences: List[str]) -> List[str]:\n",
    "    \"\"\"\n",
    "    Фильтрует мусорные слова из каждого текста в списке\n",
    "\n",
    "    Args:\n",
    "        sentences(List[str]):  Исходный список текстов\n",
    "\n",
    "    Returns:\n",
    "        List[str]: Cписок текстов без мусорных слов\n",
    "    \"\"\"\n",
    "\n",
    "    if not sentences :\n",
    "        return []\n",
    "\n",
    "    result =[\" \".join(word for word in sentence.split(\" \") if word.isalpha()) for sentence in sentences]\n",
    "    return result\n",
    "\n",
    "\n",
    "print(process(sentences))\n",
    "assert process(sentences) == ['thousand devils', 'My name is', 'Room costs'], \\\n",
    "\"Something is wrong! Please try again\""
   ],
   "execution_count": 51,
   "outputs": [
    {
     "name": "stdout",
     "output_type": "stream",
     "text": [
      "['thousand devils', 'My name is', 'Room costs']\n"
     ]
    }
   ]
  },
  {
   "cell_type": "markdown",
   "source": [
    "# Задача 9\n",
    "## Расстояние Хэмминга"
   ],
   "metadata": {
    "id": "lNCcTYSRow1j"
   }
  },
  {
   "cell_type": "markdown",
   "source": [
    "Вам даны две строки, ``a`` и ``b`` одинаковой длины. Необходимо посчитать расстояние Хэмминга между ними, которое определяется как количество символов, которые не совпадают между двумя строками в одинаковой позиции.\n",
    "\n",
    "**Sample Input 1:**\n",
    "\n",
    "```\n",
    "a = 'AGCT'\n",
    "b = 'ACGT'\n",
    "hamming(a, b)\n",
    "```\n",
    "\n",
    "**Sample Output 1:**\n",
    "\n",
    "``2``"
   ],
   "metadata": {
    "id": "8jfcOp6ckl30"
   }
  },
  {
   "cell_type": "code",
   "source": [
    "def hamming(string_a: str, string_b: str) -> int:\n",
    "    \"\"\"\n",
    "    Определяет расстояние Хэмминга между словами\n",
    "    Args:\n",
    "        string_a: строка 1\n",
    "        string_b: строка 2\n",
    "\n",
    "    Returns:\n",
    "        int: Расстояние Хэмминга между словами\n",
    "    \"\"\"\n",
    "    r2: int = sum((a==b for a, b in zip(string_a, string_b)))\n",
    "    return r2\n",
    "\n",
    "print(hamming(\"AGCTru\", \"ACGTrwc\") )\n",
    "assert hamming(\"AGCT\", \"ACGT\") == 2"
   ],
   "metadata": {
    "id": "d_IYhoPcg3Ru"
   },
   "execution_count": 29,
   "outputs": [
    {
     "name": "stdout",
     "output_type": "stream",
     "text": [
      "3\n"
     ]
    }
   ]
  },
  {
   "cell_type": "markdown",
   "source": [
    "## Задание 10\n",
    "### Numpy\n",
    "В первой задаче вам предлагается перемножить две квадратные матрицы двумя способами -- без использования пакета ***numpy*** и с ним."
   ],
   "metadata": {
    "id": "6Bul4Uue9Ww9"
   }
  },
  {
   "cell_type": "code",
   "execution_count": 33,
   "outputs": [],
   "source": [
    "import numpy as np\n",
    "import random\n",
    "import scipy.stats as sps"
   ],
   "metadata": {
    "collapsed": false
   }
  },
  {
   "cell_type": "code",
   "source": [
    "# Для генерации матриц используем фукнцию random -- она используется для генерации случайных объектов \n",
    "# функция sample создает случайную выборку. В качестве аргумента ей передается кортеж (i,j),  \n",
    "# здесь i -- число строк, j -- число столбцов.\n",
    "a = np.random.sample((100, 100))\n",
    "b = np.random.sample((100, 100))\n",
    "\n",
    "# Выведите размерность (ранг) каждой матрицы с помощью функции ndim.\n",
    "# Используйте функцию shape, что она вывела?\n",
    "\n",
    "# ========\n",
    "print(\"Размерность матрицы a: \", np.ndim(a))\n",
    "print(\"Размерность матрицы b: \", np.ndim(b))\n",
    "\n",
    "print(\"Размер матрицы a: \", np.shape(a)[0], \"x\", np.shape(a)[1])\n",
    "print(\"Размер матрицы b: \", np.shape(b)[0], \"x\", np.shape(b)[1])\n",
    "# ========\n",
    "print(a)\n",
    "print(b)"
   ],
   "metadata": {
    "id": "ClrydYj59XPc"
   },
   "execution_count": 34,
   "outputs": [
    {
     "name": "stdout",
     "output_type": "stream",
     "text": [
      "Размерность матрицы a:  2\n",
      "Размерность матрицы b:  2\n",
      "Размер матрицы a:  100 x 100\n",
      "Размер матрицы b:  100 x 100\n",
      "[[0.85336848 0.96886606 0.63302641 ... 0.55401561 0.25903881 0.16155325]\n",
      " [0.19720296 0.28881423 0.47628779 ... 0.18037487 0.93173331 0.50381734]\n",
      " [0.72757432 0.23404836 0.9553348  ... 0.36678324 0.27437376 0.38224171]\n",
      " ...\n",
      " [0.83305215 0.03299343 0.80554189 ... 0.10234039 0.0614844  0.70794901]\n",
      " [0.88646012 0.7366452  0.80231146 ... 0.11785883 0.31198277 0.80889341]\n",
      " [0.27983096 0.64098971 0.17676034 ... 0.91721537 0.33221945 0.48615894]]\n",
      "[[0.0469782  0.05888079 0.73542558 ... 0.16168686 0.4569475  0.10454472]\n",
      " [0.57900108 0.33693213 0.40972249 ... 0.84063534 0.2682069  0.3552525 ]\n",
      " [0.77516258 0.98312033 0.9120319  ... 0.20518666 0.47303637 0.40131057]\n",
      " ...\n",
      " [0.51641969 0.81830374 0.88851271 ... 0.90435633 0.33840834 0.67489005]\n",
      " [0.80890093 0.45881203 0.01184292 ... 0.98493785 0.45348921 0.23089534]\n",
      " [0.74635084 0.73463516 0.54073332 ... 0.68320673 0.1052257  0.70417264]]\n"
     ]
    }
   ]
  },
  {
   "cell_type": "code",
   "source": [
    "def mult(a: List[float], b: List[float]) -> List[float]:\n",
    "    \"\"\"\n",
    "    Функция принимает на вход две матрицы: a и b размерностью size x size\n",
    "    Возвращает матрицу их произведения a * b = c\n",
    "    Реализуйте умножение матриц без использования функций из пакета numpy (может помочь функция zip)\n",
    "\n",
    "    Args:\n",
    "        a: list of \"size\" lists, each contains \"size\" floats --- первая матрица-аргумент\n",
    "        b: list of \"size\" lists, each contains \"size\" floats --- вторая матрица-аргумент\n",
    "\n",
    "    Returns:\n",
    "        list of \"size\" lists, each contains \"size\" floats --- матрица, являющаяся результатом умножения матриц a и b\n",
    "    \"\"\"\n",
    "\n",
    "    b_transp = list(zip(*b))\n",
    "    result=[[sum(a_item*b_item for a_item, b_item in zip(a_row, b_col)) for b_col in b_transp] for a_row in a]\n",
    "\n",
    "    return result"
   ],
   "metadata": {
    "id": "yeejqk_z9aXD"
   },
   "execution_count": 52,
   "outputs": []
  },
  {
   "cell_type": "code",
   "source": [
    "def np_mult(a:np.array, b:np.array) -> np.array:\n",
    "     \"\"\"\n",
    "    Функция принимает на вход две матрицы: a и b размерностью size x size\n",
    "    Возвращает матрицу их произведения a * b = c\n",
    "\n",
    "    Реализуйте умножение матриц, используя функции из пакета numpy\n",
    "\n",
    "    Args:\n",
    "        a: np.array[size, size] --- первая матрица-аргумент\n",
    "        b: np.array[size, size] --- вторая матрица-аргумент\n",
    "\n",
    "    Returns:\n",
    "        np.array[size, size]       --- матрица, являющаяся результатом умножения матриц a и b\n",
    "    \"\"\"\n",
    "\n",
    "     return a.dot(b)"
   ],
   "metadata": {
    "id": "ul0QaXni9cAq"
   },
   "execution_count": 40,
   "outputs": []
  },
  {
   "cell_type": "code",
   "source": [
    "%%time\n",
    "# засечем время работы функции без NumPy\n",
    "M1 = mult(a, b)"
   ],
   "metadata": {
    "id": "gFdt-Kbe9gWi"
   },
   "execution_count": 41,
   "outputs": [
    {
     "name": "stdout",
     "output_type": "stream",
     "text": [
      "CPU times: user 107 ms, sys: 3.44 ms, total: 111 ms\n",
      "Wall time: 110 ms\n"
     ]
    }
   ]
  },
  {
   "cell_type": "code",
   "source": [
    "%%time\n",
    "# засечем время работы функции с NumPy\n",
    "M2 = np_mult(a, b)"
   ],
   "metadata": {
    "id": "F5QOtMj19h4n"
   },
   "execution_count": 56,
   "outputs": [
    {
     "name": "stdout",
     "output_type": "stream",
     "text": [
      "CPU times: user 1.97 ms, sys: 335 µs, total: 2.31 ms\n",
      "Wall time: 269 µs\n"
     ]
    }
   ]
  },
  {
   "cell_type": "code",
   "source": [
    "# проверим корректность\n",
    "assert np.allclose(np.array(M1), M2)\n"
   ],
   "metadata": {
    "id": "BTDTjNjk9i3s"
   },
   "execution_count": 43,
   "outputs": []
  }
 ]
}
