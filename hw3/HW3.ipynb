{
 "cells": [
  {
   "cell_type": "markdown",
   "id": "40e0ed0d-50b8-4e8d-9609-b73dab4172e5",
   "metadata": {},
   "source": [
    "# Разогрев"
   ]
  },
  {
   "cell_type": "markdown",
   "id": "74094422-038c-48f2-ae6e-96897c473b4c",
   "metadata": {},
   "source": [
    "## Задание 1"
   ]
  },
  {
   "cell_type": "markdown",
   "id": "4d598c4c-9fa7-4cce-a972-352008b78691",
   "metadata": {},
   "source": [
    "Иногда, когда нужно создавать много однотипных лямбда функций, еще удобнее будет создать функцию, которая будет их генерировать.\n",
    "\n",
    "Реализуйте функцию ``mod_checker(x, mod=0)``, которая будет **возвращать лямбда функцию** от одного аргумента ``y``, которая будет возвращать ``True``, если остаток от деления ``y`` на ``x`` равен ``mod``, и ``False`` иначе.\n",
    "\n",
    "Если в ``return`` вашей функции написано выражение, отличное от лямбда функции - задание считается проваленным\n",
    "\n",
    "**Sample:**\n",
    "\n",
    "```python\n",
    "mod_3 = mod_checker(3)\n",
    "\n",
    "print(mod_3(3)) # True\n",
    "print(mod_3(4)) # False\n",
    "\n",
    "mod_3_1 = mod_checker(3, 1)\n",
    "print(mod_3_1(4)) # True\n",
    "```"
   ]
  },
  {
   "cell_type": "code",
   "execution_count": 2,
   "id": "113b22cc-5ce8-42b5-a733-89a7411c780f",
   "metadata": {},
   "outputs": [
    {
     "name": "stdout",
     "output_type": "stream",
     "text": [
      "<function mod_checker.<locals>.<lambda> at 0x7f176564f7f0>\n",
      "True\n",
      "False\n",
      "True\n"
     ]
    }
   ],
   "source": [
    "def mod_checker(x: int, mod: int = 0):\n",
    "    \"\"\"\n",
    "    Возвращает лямбда функцию от одного аргумента y, которая будет возвращать True, если остаток от деления y на x равен mod, и False иначе.\n",
    "\n",
    "    Args:\n",
    "        x: Целое число\n",
    "        mod: Целое число\n",
    "\n",
    "    Returns:\n",
    "        Функция, возвращающая True или False\n",
    "    \"\"\"\n",
    "\n",
    "    return lambda y: True if y % x == mod else False\n",
    "\n",
    "\n",
    "mod_3 = mod_checker(3)\n",
    "print(mod_3)\n",
    "print(mod_3(3))  # True\n",
    "print(mod_3(4))  # False\n",
    "\n",
    "mod_3_1 = mod_checker(3, 1)\n",
    "print(mod_3_1(4))  # True"
   ]
  },
  {
   "cell_type": "markdown",
   "id": "d46cfa4e-1517-4444-a31b-b39f96beca3e",
   "metadata": {},
   "source": [
    "# Numpy"
   ]
  },
  {
   "cell_type": "code",
   "execution_count": 4,
   "id": "bec93b3e-f079-4e70-914f-6b19862fc68b",
   "metadata": {},
   "outputs": [],
   "source": [
    "import numpy as np"
   ]
  },
  {
   "cell_type": "markdown",
   "id": "e065e248-1900-4a4a-8c52-590ef71980b2",
   "metadata": {},
   "source": [
    "## Задание 2\n",
    "Напишите функцию, которая принимает один аргумент - ``n``. Функция должна создать нампаевскую матрицу размером ``(n, n)`` и залить ее шахматным узором. Порядок узора не имеет значения, важен общий паттерн.\n",
    "\n",
    "**Sample:**\n",
    "```python\n",
    "chess_maze(8)\n",
    "\n",
    "[[0 1 0 1 0 1 0 1]\n",
    " [1 0 1 0 1 0 1 0]\n",
    " [0 1 0 1 0 1 0 1]\n",
    " [1 0 1 0 1 0 1 0]\n",
    " [0 1 0 1 0 1 0 1]\n",
    " [1 0 1 0 1 0 1 0]\n",
    " [0 1 0 1 0 1 0 1]\n",
    " [1 0 1 0 1 0 1 0]]\n",
    "```\n",
    "\n"
   ]
  },
  {
   "cell_type": "code",
   "execution_count": 5,
   "id": "12de4c2f-9de4-4a57-8e68-27f8125ca7e9",
   "metadata": {},
   "outputs": [
    {
     "name": "stdout",
     "output_type": "stream",
     "text": [
      "[[0 1 0 1 0]\n",
      " [1 0 1 0 1]\n",
      " [0 1 0 1 0]\n",
      " [1 0 1 0 1]\n",
      " [0 1 0 1 0]]\n"
     ]
    }
   ],
   "source": [
    "def chess_board(n: int):\n",
    "    \"\"\"\n",
    "    Создает нампаевскую матрицу размером (n, n) и заливает ее шахматным узором\n",
    "    Args:\n",
    "        n: Число строк (столбцов)\n",
    "\n",
    "    Returns:\n",
    "        Матрица размером (n, n)\n",
    "    \"\"\"\n",
    "\n",
    "    board = np.zeros((n, n), dtype=int)\n",
    "    board[::2, 1::2] = 1\n",
    "    board[1::2, ::2] = 1\n",
    "    return board\n",
    "\n",
    "\n",
    "print(chess_board(5))"
   ]
  },
  {
   "cell_type": "markdown",
   "id": "ff71edfc-ecba-48b9-ab5e-db17021e7b30",
   "metadata": {},
   "source": [
    "## Задание 3\n",
    "Напишите функцию, которая принимает 2 аргумента ``arr`` и ``exclude_values``. ``arr`` - это одномерный нампаевский массив, в котором необходимо поменять знак всем числам (инвертировать), которые есть в массиве ``exclude_values``. Действия необходимо делать прямо в исходном массиве, не создавая копий.\n",
    "\n",
    "**Sample:**\n",
    "```python\n",
    "# Исходный вектор\n",
    "arr = np.arange(10+1)\n",
    "exclude_values = np.arange(4, 8)\n",
    " \n",
    "my_func(arr, exclude_values)\n",
    "array([ 0  1  2  3 -4 -5 -6 -7  8  9 10])\n",
    "```"
   ]
  },
  {
   "cell_type": "code",
   "execution_count": 6,
   "id": "28e738e2-a873-4e3d-bdd0-222506090674",
   "metadata": {},
   "outputs": [
    {
     "name": "stdout",
     "output_type": "stream",
     "text": [
      "[ 0  1  2  3 -4 -5 -6 -7  8  9 10]\n"
     ]
    }
   ],
   "source": [
    "def invert_values(source_array, exclude_array) -> None:\n",
    "    \"\"\"\n",
    "    Меняет знак всем числам, которые есть в массиве `exclude_values`\n",
    "\n",
    "    Args:\n",
    "        source_array(np.array):  Исходный вектор\n",
    "        exclude_array(np.array):  Значения, для которых надо поменять знак\n",
    "\n",
    "    Returns:\n",
    "        None: ничего не возвращает\n",
    "    \"\"\"\n",
    "\n",
    "    source_array[np.isin(arr, exclude_array)] *= -1\n",
    "\n",
    "\n",
    "arr = np.arange(10 + 1)\n",
    "exclude_values = np.arange(4, 8)\n",
    "invert_values(arr, exclude_values)\n",
    "print(arr)"
   ]
  },
  {
   "cell_type": "markdown",
   "id": "50fd92a7-30b5-42a1-aed4-a222132496cd",
   "metadata": {},
   "source": [
    "## Задание 4\n",
    "Напишите функцию, которая принимает одномерный положительный нампаевский массив и минимум 4 раза выводит на экран (функция ``print``) этот же массив, в котором у элементов оставлена только целая часть. Все >= 4 раза функция должна использовать разные методы для извлечения целой части.\n",
    "\n",
    "**Sample:**\n",
    "```python\n",
    "# Исходный вектор\n",
    "arr = np.random.uniform(low=10, high=100,size=20)\n",
    "# Исходный вектор arr:\n",
    "arr\n",
    "[99.54707368 49.26237526 80.50565073 10.10998238 16.39378916 60.64633657\n",
    " 25.49637622 31.06574268 94.48636127 73.41204506 75.70638137 70.43830146\n",
    " 72.28607422 40.59319738 57.85802554 35.39428061 55.25707514 48.00020145\n",
    " 38.39449991 26.19085017]\n",
    " \n",
    "my_func(arr)\n",
    "\n",
    "[99. 49. 80. 10. 16. 60. 25. 31. 94. 73. 75. 70. 72. 40. 57. 35. 55. 48.\n",
    " 38. 26.]\n",
    "[99. 49. 80. 10. 16. 60. 25. 31. 94. 73. 75. 70. 72. 40. 57. 35. 55. 48.\n",
    " 38. 26.]\n",
    "[99. 49. 80. 10. 16. 60. 25. 31. 94. 73. 75. 70. 72. 40. 57. 35. 55. 48.\n",
    " 38. 26.]\n",
    "[99 49 80 10 16 60 25 31 94 73 75 70 72 40 57 35 55 48 38 26]\n",
    "[99. 49. 80. 10. 16. 60. 25. 31. 94. 73. 75. 70. 72. 40. 57. 35. 55. 48.\n",
    " 38. 26.]\n",
    "```\n",
    "\n",
    "В примере 5 выводов print из функции, просто чтобы были :)"
   ]
  },
  {
   "cell_type": "code",
   "execution_count": 7,
   "id": "d988e6d5-1e23-411c-a2d0-f5b9f5960b47",
   "metadata": {},
   "outputs": [
    {
     "name": "stdout",
     "output_type": "stream",
     "text": [
      "Исходный вектор\n",
      "[18.25101323 60.11338589 45.56375776 32.69762752 82.51511578 45.97678939\n",
      " 28.50395545 12.3702594  83.0381056  74.34580285 47.36318378 42.44282893\n",
      " 62.14868229 90.94298244 70.77370244 84.7788828  96.82530776 73.64928171\n",
      " 22.96298825 24.35887957]\n",
      "Преобразование к int8\n",
      "[18 60 45 32 82 45 28 12 83 74 47 42 62 90 70 84 96 73 22 24]\n",
      "Преобразование к int16\n",
      "[18 60 45 32 82 45 28 12 83 74 47 42 62 90 70 84 96 73 22 24]\n",
      "Преобразование к uint8\n",
      "[18 60 45 32 82 45 28 12 83 74 47 42 62 90 70 84 96 73 22 24]\n",
      "Преобразование к uint16\n",
      "[18 60 45 32 82 45 28 12 83 74 47 42 62 90 70 84 96 73 22 24]\n",
      "Преобразование к int\n",
      "[18 60 45 32 82 45 28 12 83 74 47 42 62 90 70 84 96 73 22 24]\n",
      "Преобразование arr.round(0)\n",
      "[18. 60. 46. 33. 83. 46. 29. 12. 83. 74. 47. 42. 62. 91. 71. 85. 97. 74.\n",
      " 23. 24.]\n",
      "Преобразование np.round(arr,0)\n",
      "[18. 60. 46. 33. 83. 46. 29. 12. 83. 74. 47. 42. 62. 91. 71. 85. 97. 74.\n",
      " 23. 24.]\n",
      "Преобразование around(arr,0)\n",
      "[18. 60. 46. 33. 83. 46. 29. 12. 83. 74. 47. 42. 62. 91. 71. 85. 97. 74.\n",
      " 23. 24.]\n",
      "Преобразование np.fix(arr)\n",
      "[18. 60. 45. 32. 82. 45. 28. 12. 83. 74. 47. 42. 62. 90. 70. 84. 96. 73.\n",
      " 22. 24.]\n",
      "Преобразование np.floor(arr)\n",
      "[18. 60. 45. 32. 82. 45. 28. 12. 83. 74. 47. 42. 62. 90. 70. 84. 96. 73.\n",
      " 22. 24.]\n",
      "Преобразование np.ceil(arr)\n",
      "[19. 61. 46. 33. 83. 46. 29. 13. 84. 75. 48. 43. 63. 91. 71. 85. 97. 74.\n",
      " 23. 25.]\n",
      "Преобразование np.trunc(arr)\n",
      "[18. 60. 45. 32. 82. 45. 28. 12. 83. 74. 47. 42. 62. 90. 70. 84. 96. 73.\n",
      " 22. 24.]\n"
     ]
    }
   ],
   "source": [
    "def print_int(arr):\n",
    "    \"\"\"\n",
    "    Извлечение целой части числа\n",
    "    Args:\n",
    "        arr: Массив исходных значений\n",
    "\n",
    "    Returns:\n",
    "        None: ничего не возвращает\n",
    "    \"\"\"\n",
    "\n",
    "    print(\"Исходный вектор\")\n",
    "    print(arr)\n",
    "    print(\"Преобразование к int8\")\n",
    "    print(np.int8(arr))\n",
    "    print(\"Преобразование к int16\")\n",
    "    print(np.int16(arr))\n",
    "    print(\"Преобразование к uint8\")\n",
    "    print(np.uint8(arr))\n",
    "    print(\"Преобразование к uint16\")\n",
    "    print(np.uint16(arr))\n",
    "    print(\"Преобразование к int\")\n",
    "    print(arr.astype(int))\n",
    "    print(\"Преобразование arr.round(0)\")\n",
    "    print(arr.round(0))\n",
    "    print(\"Преобразование np.round(arr,0)\")\n",
    "    print(np.round(arr, 0))\n",
    "    print(\"Преобразование around(arr,0)\")\n",
    "    print(np.around(arr, 0))\n",
    "    print(\"Преобразование np.fix(arr)\")\n",
    "    print(np.fix(arr))\n",
    "    print(\"Преобразование np.floor(arr)\")\n",
    "    print(np.floor(arr))\n",
    "    print(\"Преобразование np.ceil(arr)\")\n",
    "    print(np.ceil(arr))\n",
    "    print(\"Преобразование np.trunc(arr)\")\n",
    "    print(np.trunc(arr))\n",
    "\n",
    "\n",
    "my_arr = np.random.uniform(low=10, high=100, size=20)\n",
    "print_int(my_arr)"
   ]
  },
  {
   "cell_type": "markdown",
   "id": "e19786ad-aede-4f06-96b8-fb6f60e7bcf7",
   "metadata": {},
   "source": [
    "## Задание 5\n",
    "Напишите функцию, которая принимает два числа - ``N`` и ``p``. ``N`` - это размер стороны квадратной матрицы np.zeros, ``p`` - это количество индексов в матрице (p не превышает N*N), которые нужно заменить на случайные числа. Индексы и числа нужно выбирать случайно. Функция должна возвращать квадратную матрицу со стороной ``N``, в которой ровно ``p`` чисел заменены на случайные.\n",
    "\n",
    "```python\n",
    "my_func(N=6, p=4)\n",
    "\n",
    "[[56.   0.   0.   0.   0.   0.]\n",
    " [  0.   0.   0.   0.   0.   0.]\n",
    " [99.   0.   0.   0.   0.   0.]\n",
    " [  0.   0.   0. 83.   0.   0.]\n",
    " [  0.   0.   0.   0.   0.   0.]\n",
    " [  0.   0.   0.   0.   1.   0.]]\n",
    "```"
   ]
  },
  {
   "cell_type": "code",
   "execution_count": 8,
   "metadata": {
    "collapsed": false
   },
   "outputs": [
    {
     "name": "stdout",
     "output_type": "stream",
     "text": [
      "Вариант 1\n",
      "[[  0   0 136   0   0   0]\n",
      " [  0   0   0   0   0   0]\n",
      " [  0   0   0  93   0   0]\n",
      " [  0   0   0   0   0   0]\n",
      " [  0   0   0   0   0 147]\n",
      " [  0  47   0   0   0   0]]\n",
      "Вариант 2\n",
      "[[ 76   0   0  89 143   0]\n",
      " [  0   0   0   0   0   0]\n",
      " [  0   0 143   0   0   0]\n",
      " [  0   0   0   0   0   0]\n",
      " [  0   0   0   0   0   0]\n",
      " [  0   0   0   0   0   0]]\n",
      "Вариант 3\n",
      "[[  0.   0.   0.   0.   0.  80.]\n",
      " [  0.   0.   0.   0.   0.   0.]\n",
      " [  0.   0.   0. 113.   0.   0.]\n",
      " [  4.   0.   0.   0.   0.   0.]\n",
      " [  0.   0.   0.   0.   0.   0.]\n",
      " [  0. 101.   0.   0.   0.   0.]]\n"
     ]
    }
   ],
   "source": [
    "def my_func1(n: int, p: int):\n",
    "    \"\"\"\n",
    "    Заменяет в матрице p элементов (не превышает n*n) на случайные числа. Вариант 1. Растягивание матрицы со случайными числами и заполнением нулями\n",
    "\n",
    "    Args:\n",
    "        n:  Размер стороны квадратной матрицы\n",
    "        p:  Количество элементов для замены\n",
    "\n",
    "    Returns:\n",
    "        Матрица с замененными элементами\n",
    "    \"\"\"\n",
    "\n",
    "    matrix = (np.random.randint(0, 150, size=p))\n",
    "    matrix.resize(n * n)\n",
    "    np.random.shuffle(matrix)\n",
    "    matrix.shape = (n, n)\n",
    "\n",
    "    return matrix\n",
    "\n",
    "\n",
    "def my_func2(n: int, p: int):\n",
    "    \"\"\"\n",
    "    Заменяет в матрице p элементов (не превышает n*n) на случайные числа. Вариант 2. Заполнение матрицы нулями\n",
    "    и случайными числами с помощью генератора списка\n",
    "\n",
    "    Args:\n",
    "        n:  Размер стороны квадратной матрицы\n",
    "        p:  Количество элементов для замены\n",
    "\n",
    "    Returns:\n",
    "        Матрица с замененными элементами\n",
    "    \"\"\"\n",
    "\n",
    "    indexes = np.random.randint(0, n * n, size=p)\n",
    "    matrix = np.array([np.random.randint(0, 150) if i in indexes else 0 for i in range(n * n)])\n",
    "    matrix.shape = (n, n)\n",
    "\n",
    "    return matrix\n",
    "\n",
    "\n",
    "def my_func3(n: int, p: int):\n",
    "    \"\"\"\n",
    "    Заменяет в матрице p элементов (не превышает n*n) на случайные числа.\n",
    "    Вариант 3. Изменение матрицы через списочную индексацию\n",
    "\n",
    "    Args:\n",
    "        n:  Размер стороны квадратной матрицы\n",
    "        p:  Количество элементов для замены\n",
    "\n",
    "    Returns:\n",
    "        Матрица с замененными элементами\n",
    "    \"\"\"\n",
    "\n",
    "    matrix = np.zeros((n, n), dtype=float)\n",
    "    indexes = np.random.randint(0, n * n, size=p)\n",
    "    matrix.ravel()[indexes] = np.array(np.random.randint(0, 150, size=p))\n",
    "\n",
    "    return matrix\n",
    "\n",
    "\n",
    "print(\"Вариант 1\")\n",
    "print(my_func1(n=6, p=4))\n",
    "print(\"Вариант 2\")\n",
    "print(my_func2(n=6, p=4))\n",
    "print(\"Вариант 3\")\n",
    "print(my_func3(n=6, p=4))"
   ]
  },
  {
   "cell_type": "markdown",
   "id": "ea6147b4-ea16-48e8-86f9-20bc90849b68",
   "metadata": {},
   "source": [
    "# Pandas"
   ]
  },
  {
   "cell_type": "code",
   "execution_count": 10,
   "id": "036794bd-1340-4341-93f2-4c7eda7e011c",
   "metadata": {},
   "outputs": [],
   "source": [
    "import pandas as pd\n",
    "\n",
    "pd.set_option(\"display.max_rows\", 20)\n",
    "pd.set_option(\"display.max_columns\", 20)\n",
    "pd.set_option(\"display.precision\", 4)\n",
    "pd.set_option(\"plotting.backend\", \"matplotlib\")"
   ]
  },
  {
   "cell_type": "markdown",
   "id": "feed93bf-9c0e-443e-9812-f3d88f526be4",
   "metadata": {},
   "source": [
    "# Задание 6\n",
    "\n",
    "Любым удобным для вас способом создайте ``dataframe`` c именем ``my_data``, в котором две колонки c именами (``type`` - строки, ``value`` - числа с плавающей точкой) и четыре наблюдения в каждой колонке:\n",
    "\n",
    "```\n",
    "type value\n",
    "B    18.\n",
    "\n",
    "B    20.\n",
    "\n",
    "C    10.\n",
    "\n",
    "C    -10.\n",
    "```\n",
    "\n",
    "Какой размер созданного вами датафрейма? (Подумайте, что лучше использовать - информацию из метода df.info() или информацию из метода df.memory_usage()?)"
   ]
  },
  {
   "cell_type": "code",
   "execution_count": 11,
   "id": "55453b06-c034-4ad4-9350-c9bfdeb5acef",
   "metadata": {},
   "outputs": [
    {
     "name": "stdout",
     "output_type": "stream",
     "text": [
      "Index    128\n",
      "type      32\n",
      "value     32\n",
      "dtype: int64\n",
      "Всего байт было (байт):  192\n"
     ]
    }
   ],
   "source": [
    "my_data = pd.DataFrame({'type': ['B', 'B', 'C', 'C'], 'value': [18, 20, 10, -10]})\n",
    "print(my_data.memory_usage())\n",
    "old_mem = sum(my_data.memory_usage().values)\n",
    "print('Всего байт было (байт): ', old_mem)"
   ]
  },
  {
   "cell_type": "markdown",
   "source": [
    "1) Измените тип данных колонки type на category. Как изменился размер датафрейма?"
   ],
   "metadata": {
    "collapsed": false
   }
  },
  {
   "cell_type": "code",
   "execution_count": 12,
   "outputs": [
    {
     "name": "stdout",
     "output_type": "stream",
     "text": [
      "Был тип: object\n",
      "Стал тип:  category\n",
      "Всего байт стало (байт):  288\n",
      "Датафрейм изменился на (байт):  -96\n"
     ]
    }
   ],
   "source": [
    "print('Был тип:', my_data.type.dtype)\n",
    "my_data.type = my_data.type.astype('category')\n",
    "print('Стал тип: ', my_data.type.dtype)\n",
    "new_mem1 = sum(my_data.memory_usage().values)\n",
    "print('Всего байт стало (байт): ', new_mem1)\n",
    "print('Датафрейм изменился на (байт): ', old_mem - new_mem1)"
   ],
   "metadata": {
    "collapsed": false
   }
  },
  {
   "cell_type": "markdown",
   "metadata": {
    "collapsed": false
   },
   "source": [
    "2) Измените тип данных колонки value на менее жадный. Как изменился размер датафрейма?"
   ]
  },
  {
   "cell_type": "code",
   "execution_count": 14,
   "id": "e3d89d80",
   "metadata": {},
   "outputs": [
    {
     "name": "stdout",
     "output_type": "stream",
     "text": [
      "Был тип: int8\n",
      "Стал тип:  int8\n",
      "Всего байт стало (байт):  260\n",
      "Датафрейм изменился на (байт):  28\n",
      "Датафрейм в целом изменился на (байт):  -68\n"
     ]
    }
   ],
   "source": [
    "print('Был тип:', my_data.value.dtype)\n",
    "my_data.value = my_data.value.astype('int8')\n",
    "print('Стал тип: ', my_data.value.dtype)\n",
    "new_mem2 = sum(my_data.memory_usage().values)\n",
    "print('Всего байт стало (байт): ', new_mem2)\n",
    "print('Датафрейм изменился на (байт): ', new_mem1 - new_mem2)\n",
    "print('Датафрейм в целом изменился на (байт): ', old_mem - new_mem2)"
   ]
  },
  {
   "cell_type": "markdown",
   "id": "b5c49f07-2954-43af-89e4-2df23e216af8",
   "metadata": {},
   "source": [
    "# Задание 7\n",
    "Любым удобным для вас способом создайте ``dataframe`` c именем ``my_data``, в котором две колонки c именами (``type`` - строки, ``value`` - числа с плавающей точкой) и десять тысяч (10 000) наблюдений в каждой колонке. В колонке ``type`` должно быть 10 уникальных значений.\n",
    "\n",
    "```python\n",
    "my_data.shape\n",
    "____________\n",
    "(10000, 2)\n",
    "```\n",
    "\n",
    "Какой размер созданного вами датафрейма? (Подумайте, что лучше использовать - информацию из метода df.info() или информацию из метода df.memory_usage()?)"
   ]
  },
  {
   "cell_type": "code",
   "execution_count": 15,
   "id": "7ce31b7d-7367-4c4a-b7ca-e7b837fda604",
   "metadata": {},
   "outputs": [
    {
     "name": "stdout",
     "output_type": "stream",
     "text": [
      "(10000, 2)\n",
      "Index      128\n",
      "type     80000\n",
      "value    80000\n",
      "dtype: int64\n",
      "Всего байт было (байт):  160128\n"
     ]
    }
   ],
   "source": [
    "N = 10000\n",
    "types = np.random.randint(0, 10, size=N)\n",
    "values = np.random.uniform(-30, 50, size=N)\n",
    "my_data2 = pd.DataFrame({'type': types, 'value': values})\n",
    "print(my_data2.shape)\n",
    "print(my_data2.memory_usage())\n",
    "old_mem2 = sum(my_data2.memory_usage().values)\n",
    "print('Всего байт было (байт): ', old_mem2)"
   ]
  },
  {
   "cell_type": "markdown",
   "id": "0aabfb63",
   "metadata": {},
   "source": [
    "1) Измените тип данных колонки type на category. Как изменился размер датафрейма?"
   ]
  },
  {
   "cell_type": "code",
   "execution_count": 16,
   "id": "e9ad087d",
   "metadata": {},
   "outputs": [
    {
     "name": "stdout",
     "output_type": "stream",
     "text": [
      "Был тип: int64\n",
      "Стал тип:  category\n",
      "Всего байт стало (байт):  90508\n",
      "Датафрейм изменился на (байт):  69620\n"
     ]
    }
   ],
   "source": [
    "print('Был тип:', my_data2.type.dtype)\n",
    "my_data2.type = my_data2.type.astype('category')\n",
    "print('Стал тип: ', my_data2.type.dtype)\n",
    "new_mem3 = sum(my_data2.memory_usage().values)\n",
    "print('Всего байт стало (байт): ', new_mem3)\n",
    "print('Датафрейм изменился на (байт): ', old_mem2 - new_mem3)"
   ]
  },
  {
   "cell_type": "markdown",
   "id": "2291bfcb",
   "metadata": {},
   "source": [
    "2) Измените тип данных колонки value на менее жадный. Как изменился размер датафрейма?"
   ]
  },
  {
   "cell_type": "code",
   "execution_count": 17,
   "id": "5d68ff1d",
   "metadata": {},
   "outputs": [
    {
     "name": "stdout",
     "output_type": "stream",
     "text": [
      "Был тип: float64\n",
      "Был диапазон значений: от -29.983572881509872 до 49.9947866974823\n",
      "Стал тип:  float32\n",
      "Стал диапазон значений: от -29.983572 до 49.994785\n",
      "Всего байт стало (байт):  50508\n",
      "Датафрейм изменился на (байт):  40000\n"
     ]
    }
   ],
   "source": [
    "print('Был тип:', my_data2.value.dtype)\n",
    "print('Был диапазон значений: от', my_data2.value.min(), 'до', my_data2.value.max())\n",
    "my_data2.value = my_data2.value.astype('float32')\n",
    "print('Стал тип: ', my_data2.value.dtype)\n",
    "print('Стал диапазон значений: от', my_data2.value.min(), 'до', my_data2.value.max())\n",
    "new_mem4 = sum(my_data2.memory_usage().values)\n",
    "print('Всего байт стало (байт): ', new_mem4)\n",
    "print('Датафрейм изменился на (байт): ', new_mem3 - new_mem4)"
   ]
  },
  {
   "cell_type": "markdown",
   "id": "2d66f857",
   "metadata": {},
   "source": [
    "Во сколько раз уменьшился размер исходного датафрейма после выполнения этих двух операций?"
   ]
  },
  {
   "cell_type": "code",
   "execution_count": 18,
   "id": "5deaea27",
   "metadata": {},
   "outputs": [
    {
     "name": "stdout",
     "output_type": "stream",
     "text": [
      "Датафрейм в целом изменился на (байт):  109620\n"
     ]
    }
   ],
   "source": [
    "print('Датафрейм в целом изменился на (байт): ', old_mem2 - new_mem4)"
   ]
  },
  {
   "cell_type": "markdown",
   "id": "d1614009-c31c-494c-9b7e-010b3fca3adc",
   "metadata": {},
   "source": [
    "#### Для решения дальнейших задач мы будем использовать следующий датасет, загрузите его с помощью команды:"
   ]
  },
  {
   "cell_type": "code",
   "execution_count": 19,
   "id": "9de2ceb8-28bf-4f4f-a67c-5c3cf17d09e9",
   "metadata": {},
   "outputs": [],
   "source": [
    "df = pd.read_csv('https://stepik.org/media/attachments/course/4852/my_stat.csv')"
   ]
  },
  {
   "cell_type": "code",
   "execution_count": 109,
   "id": "bcf8eca6-4c68-43a9-a250-7b2b0aba6a92",
   "metadata": {},
   "outputs": [
    {
     "data": {
      "text/html": [
       "<div>\n",
       "<style scoped>\n",
       "    .dataframe tbody tr th:only-of-type {\n",
       "        vertical-align: middle;\n",
       "    }\n",
       "\n",
       "    .dataframe tbody tr th {\n",
       "        vertical-align: top;\n",
       "    }\n",
       "\n",
       "    .dataframe thead th {\n",
       "        text-align: right;\n",
       "    }\n",
       "</style>\n",
       "<table border=\"1\" class=\"dataframe\">\n",
       "  <thead>\n",
       "    <tr style=\"text-align: right;\">\n",
       "      <th></th>\n",
       "      <th>V1</th>\n",
       "      <th>V2</th>\n",
       "      <th>V3</th>\n",
       "      <th>V4</th>\n",
       "    </tr>\n",
       "  </thead>\n",
       "  <tbody>\n",
       "    <tr>\n",
       "      <th>0</th>\n",
       "      <td>2</td>\n",
       "      <td>13.0</td>\n",
       "      <td>B</td>\n",
       "      <td>1.0</td>\n",
       "    </tr>\n",
       "    <tr>\n",
       "      <th>1</th>\n",
       "      <td>-1</td>\n",
       "      <td>7.0</td>\n",
       "      <td>B</td>\n",
       "      <td>1.0</td>\n",
       "    </tr>\n",
       "    <tr>\n",
       "      <th>2</th>\n",
       "      <td>0</td>\n",
       "      <td>11.0</td>\n",
       "      <td>A</td>\n",
       "      <td>0.0</td>\n",
       "    </tr>\n",
       "    <tr>\n",
       "      <th>3</th>\n",
       "      <td>2</td>\n",
       "      <td>11.0</td>\n",
       "      <td>A</td>\n",
       "      <td>2.0</td>\n",
       "    </tr>\n",
       "    <tr>\n",
       "      <th>4</th>\n",
       "      <td>0</td>\n",
       "      <td>10.0</td>\n",
       "      <td>B</td>\n",
       "      <td>-1.0</td>\n",
       "    </tr>\n",
       "    <tr>\n",
       "      <th>...</th>\n",
       "      <td>...</td>\n",
       "      <td>...</td>\n",
       "      <td>...</td>\n",
       "      <td>...</td>\n",
       "    </tr>\n",
       "    <tr>\n",
       "      <th>495</th>\n",
       "      <td>1</td>\n",
       "      <td>8.0</td>\n",
       "      <td>A</td>\n",
       "      <td>-1.0</td>\n",
       "    </tr>\n",
       "    <tr>\n",
       "      <th>496</th>\n",
       "      <td>3</td>\n",
       "      <td>8.0</td>\n",
       "      <td>A</td>\n",
       "      <td>1.0</td>\n",
       "    </tr>\n",
       "    <tr>\n",
       "      <th>497</th>\n",
       "      <td>-1</td>\n",
       "      <td>11.0</td>\n",
       "      <td>B</td>\n",
       "      <td>2.0</td>\n",
       "    </tr>\n",
       "    <tr>\n",
       "      <th>498</th>\n",
       "      <td>1</td>\n",
       "      <td>11.0</td>\n",
       "      <td>A</td>\n",
       "      <td>2.0</td>\n",
       "    </tr>\n",
       "    <tr>\n",
       "      <th>499</th>\n",
       "      <td>0</td>\n",
       "      <td>8.0</td>\n",
       "      <td>B</td>\n",
       "      <td>1.0</td>\n",
       "    </tr>\n",
       "  </tbody>\n",
       "</table>\n",
       "<p>500 rows × 4 columns</p>\n",
       "</div>"
      ],
      "text/plain": [
       "     V1    V2 V3   V4\n",
       "0     2  13.0  B  1.0\n",
       "1    -1   7.0  B  1.0\n",
       "2     0  11.0  A  0.0\n",
       "3     2  11.0  A  2.0\n",
       "4     0  10.0  B -1.0\n",
       "..   ..   ... ..  ...\n",
       "495   1   8.0  A -1.0\n",
       "496   3   8.0  A  1.0\n",
       "497  -1  11.0  B  2.0\n",
       "498   1  11.0  A  2.0\n",
       "499   0   8.0  B  1.0\n",
       "\n",
       "[500 rows x 4 columns]"
      ]
     },
     "execution_count": 109,
     "metadata": {},
     "output_type": "execute_result"
    }
   ],
   "source": [
    "df"
   ]
  },
  {
   "cell_type": "markdown",
   "id": "02e37431-e600-4bf5-bfcf-5641bfcaccd8",
   "metadata": {},
   "source": [
    "Примечание: все операции с исходным датафреймом должны быть ``inplace``. То есть исходный датафрейм в переменной ``df`` **должен** измениться"
   ]
  },
  {
   "cell_type": "markdown",
   "id": "25499d55-3c26-4f2e-b642-e05f94341d69",
   "metadata": {},
   "source": [
    "# Задание 8\n",
    "\n",
    "В переменную с именем subset_1 сохраните только первые 19 строк и только 1 и 3 колонку."
   ]
  },
  {
   "cell_type": "code",
   "execution_count": 20,
   "id": "0e4b85c0-946b-4d65-a2f4-9940f5149cc7",
   "metadata": {},
   "outputs": [
    {
     "data": {
      "text/plain": "    V1 V3\n0    2  B\n1   -1  B\n2    0  A\n3    2  A\n4    0  B\n5    2  A\n6    0  A\n7    1  A\n8    0  B\n9   -1  A\n10   1  A\n11  -2  A\n12   0  B\n13   1  A\n14  -1  A\n15   2  B\n16   0  B\n17   0  A\n18   0  A",
      "text/html": "<div>\n<style scoped>\n    .dataframe tbody tr th:only-of-type {\n        vertical-align: middle;\n    }\n\n    .dataframe tbody tr th {\n        vertical-align: top;\n    }\n\n    .dataframe thead th {\n        text-align: right;\n    }\n</style>\n<table border=\"1\" class=\"dataframe\">\n  <thead>\n    <tr style=\"text-align: right;\">\n      <th></th>\n      <th>V1</th>\n      <th>V3</th>\n    </tr>\n  </thead>\n  <tbody>\n    <tr>\n      <th>0</th>\n      <td>2</td>\n      <td>B</td>\n    </tr>\n    <tr>\n      <th>1</th>\n      <td>-1</td>\n      <td>B</td>\n    </tr>\n    <tr>\n      <th>2</th>\n      <td>0</td>\n      <td>A</td>\n    </tr>\n    <tr>\n      <th>3</th>\n      <td>2</td>\n      <td>A</td>\n    </tr>\n    <tr>\n      <th>4</th>\n      <td>0</td>\n      <td>B</td>\n    </tr>\n    <tr>\n      <th>5</th>\n      <td>2</td>\n      <td>A</td>\n    </tr>\n    <tr>\n      <th>6</th>\n      <td>0</td>\n      <td>A</td>\n    </tr>\n    <tr>\n      <th>7</th>\n      <td>1</td>\n      <td>A</td>\n    </tr>\n    <tr>\n      <th>8</th>\n      <td>0</td>\n      <td>B</td>\n    </tr>\n    <tr>\n      <th>9</th>\n      <td>-1</td>\n      <td>A</td>\n    </tr>\n    <tr>\n      <th>10</th>\n      <td>1</td>\n      <td>A</td>\n    </tr>\n    <tr>\n      <th>11</th>\n      <td>-2</td>\n      <td>A</td>\n    </tr>\n    <tr>\n      <th>12</th>\n      <td>0</td>\n      <td>B</td>\n    </tr>\n    <tr>\n      <th>13</th>\n      <td>1</td>\n      <td>A</td>\n    </tr>\n    <tr>\n      <th>14</th>\n      <td>-1</td>\n      <td>A</td>\n    </tr>\n    <tr>\n      <th>15</th>\n      <td>2</td>\n      <td>B</td>\n    </tr>\n    <tr>\n      <th>16</th>\n      <td>0</td>\n      <td>B</td>\n    </tr>\n    <tr>\n      <th>17</th>\n      <td>0</td>\n      <td>A</td>\n    </tr>\n    <tr>\n      <th>18</th>\n      <td>0</td>\n      <td>A</td>\n    </tr>\n  </tbody>\n</table>\n</div>"
     },
     "metadata": {},
     "output_type": "display_data"
    }
   ],
   "source": [
    "subset_1 = df.iloc[:19, [0, 2]]\n",
    "display(subset_1)"
   ]
  },
  {
   "cell_type": "markdown",
   "id": "ab51f182",
   "metadata": {},
   "source": [
    "В переменную с именем subset_2 сохраните все строки кроме 2, 3 и 18 и только 2 и 4 колонку."
   ]
  },
  {
   "cell_type": "code",
   "execution_count": 22,
   "id": "5de000e5",
   "metadata": {},
   "outputs": [
    {
     "data": {
      "text/plain": "       V2   V4\n0    13.0  1.0\n3    11.0  2.0\n4    10.0 -1.0\n5    11.0  0.0\n6     9.0  2.0\n..    ...  ...\n495   8.0 -1.0\n496   8.0  1.0\n497  11.0  2.0\n498  11.0  2.0\n499   8.0  1.0\n\n[497 rows x 2 columns]",
      "text/html": "<div>\n<style scoped>\n    .dataframe tbody tr th:only-of-type {\n        vertical-align: middle;\n    }\n\n    .dataframe tbody tr th {\n        vertical-align: top;\n    }\n\n    .dataframe thead th {\n        text-align: right;\n    }\n</style>\n<table border=\"1\" class=\"dataframe\">\n  <thead>\n    <tr style=\"text-align: right;\">\n      <th></th>\n      <th>V2</th>\n      <th>V4</th>\n    </tr>\n  </thead>\n  <tbody>\n    <tr>\n      <th>0</th>\n      <td>13.0</td>\n      <td>1.0</td>\n    </tr>\n    <tr>\n      <th>3</th>\n      <td>11.0</td>\n      <td>2.0</td>\n    </tr>\n    <tr>\n      <th>4</th>\n      <td>10.0</td>\n      <td>-1.0</td>\n    </tr>\n    <tr>\n      <th>5</th>\n      <td>11.0</td>\n      <td>0.0</td>\n    </tr>\n    <tr>\n      <th>6</th>\n      <td>9.0</td>\n      <td>2.0</td>\n    </tr>\n    <tr>\n      <th>...</th>\n      <td>...</td>\n      <td>...</td>\n    </tr>\n    <tr>\n      <th>495</th>\n      <td>8.0</td>\n      <td>-1.0</td>\n    </tr>\n    <tr>\n      <th>496</th>\n      <td>8.0</td>\n      <td>1.0</td>\n    </tr>\n    <tr>\n      <th>497</th>\n      <td>11.0</td>\n      <td>2.0</td>\n    </tr>\n    <tr>\n      <th>498</th>\n      <td>11.0</td>\n      <td>2.0</td>\n    </tr>\n    <tr>\n      <th>499</th>\n      <td>8.0</td>\n      <td>1.0</td>\n    </tr>\n  </tbody>\n</table>\n<p>497 rows × 2 columns</p>\n</div>"
     },
     "metadata": {},
     "output_type": "display_data"
    }
   ],
   "source": [
    "subset_2 = df.iloc[~df.index.isin([1, 2, 17]), [1, 3]]\n",
    "display(subset_2)"
   ]
  },
  {
   "cell_type": "markdown",
   "id": "57db07ab-f016-4340-880b-cd640e789407",
   "metadata": {},
   "source": [
    "# Задание 9\n",
    "\n",
    "В переменную subset_3 сохраните только те наблюдения, у которых значения переменной V1 строго больше 0, и значение переменной V3  равняется 'A'."
   ]
  },
  {
   "cell_type": "code",
   "execution_count": 23,
   "id": "a9a7558d-14f9-4a64-9b1f-9a77ab52304c",
   "metadata": {},
   "outputs": [
    {
     "data": {
      "text/plain": "    V1    V2 V3   V4\n3    2  11.0  A  2.0\n5    2  11.0  A  0.0\n7    1   9.0  A  1.0\n10   1  10.0  A  1.0\n13   1  12.0  A  3.0",
      "text/html": "<div>\n<style scoped>\n    .dataframe tbody tr th:only-of-type {\n        vertical-align: middle;\n    }\n\n    .dataframe tbody tr th {\n        vertical-align: top;\n    }\n\n    .dataframe thead th {\n        text-align: right;\n    }\n</style>\n<table border=\"1\" class=\"dataframe\">\n  <thead>\n    <tr style=\"text-align: right;\">\n      <th></th>\n      <th>V1</th>\n      <th>V2</th>\n      <th>V3</th>\n      <th>V4</th>\n    </tr>\n  </thead>\n  <tbody>\n    <tr>\n      <th>3</th>\n      <td>2</td>\n      <td>11.0</td>\n      <td>A</td>\n      <td>2.0</td>\n    </tr>\n    <tr>\n      <th>5</th>\n      <td>2</td>\n      <td>11.0</td>\n      <td>A</td>\n      <td>0.0</td>\n    </tr>\n    <tr>\n      <th>7</th>\n      <td>1</td>\n      <td>9.0</td>\n      <td>A</td>\n      <td>1.0</td>\n    </tr>\n    <tr>\n      <th>10</th>\n      <td>1</td>\n      <td>10.0</td>\n      <td>A</td>\n      <td>1.0</td>\n    </tr>\n    <tr>\n      <th>13</th>\n      <td>1</td>\n      <td>12.0</td>\n      <td>A</td>\n      <td>3.0</td>\n    </tr>\n  </tbody>\n</table>\n</div>"
     },
     "metadata": {},
     "output_type": "display_data"
    },
    {
     "data": {
      "text/plain": "Empty DataFrame\nColumns: [V1, V2, V3, V4]\nIndex: []",
      "text/html": "<div>\n<style scoped>\n    .dataframe tbody tr th:only-of-type {\n        vertical-align: middle;\n    }\n\n    .dataframe tbody tr th {\n        vertical-align: top;\n    }\n\n    .dataframe thead th {\n        text-align: right;\n    }\n</style>\n<table border=\"1\" class=\"dataframe\">\n  <thead>\n    <tr style=\"text-align: right;\">\n      <th></th>\n      <th>V1</th>\n      <th>V2</th>\n      <th>V3</th>\n      <th>V4</th>\n    </tr>\n  </thead>\n  <tbody>\n  </tbody>\n</table>\n</div>"
     },
     "metadata": {},
     "output_type": "display_data"
    }
   ],
   "source": [
    "subset_3 = df[(df.V1 > 0) & (df.V3 == 'A')]\n",
    "# Проверка, subset_5 должен быть пустой\n",
    "subset_5 = subset_3[(subset_3.V1 <= 0) | (subset_3.V3 != 'A')]\n",
    "display(subset_3.head())\n",
    "display(subset_5)"
   ]
  },
  {
   "cell_type": "markdown",
   "id": "637e4628",
   "metadata": {},
   "source": [
    "В переменную  subset_4  сохраните только те наблюдения, у которых значения переменной V2  не равняются 10, или значения переменной V4 больше или равно 1."
   ]
  },
  {
   "cell_type": "code",
   "execution_count": 24,
   "id": "5ee93165",
   "metadata": {},
   "outputs": [
    {
     "data": {
      "text/plain": "   V1    V2 V3   V4\n0   2  13.0  B  1.0\n1  -1   7.0  B  1.0\n2   0  11.0  A  0.0\n3   2  11.0  A  2.0\n5   2  11.0  A  0.0",
      "text/html": "<div>\n<style scoped>\n    .dataframe tbody tr th:only-of-type {\n        vertical-align: middle;\n    }\n\n    .dataframe tbody tr th {\n        vertical-align: top;\n    }\n\n    .dataframe thead th {\n        text-align: right;\n    }\n</style>\n<table border=\"1\" class=\"dataframe\">\n  <thead>\n    <tr style=\"text-align: right;\">\n      <th></th>\n      <th>V1</th>\n      <th>V2</th>\n      <th>V3</th>\n      <th>V4</th>\n    </tr>\n  </thead>\n  <tbody>\n    <tr>\n      <th>0</th>\n      <td>2</td>\n      <td>13.0</td>\n      <td>B</td>\n      <td>1.0</td>\n    </tr>\n    <tr>\n      <th>1</th>\n      <td>-1</td>\n      <td>7.0</td>\n      <td>B</td>\n      <td>1.0</td>\n    </tr>\n    <tr>\n      <th>2</th>\n      <td>0</td>\n      <td>11.0</td>\n      <td>A</td>\n      <td>0.0</td>\n    </tr>\n    <tr>\n      <th>3</th>\n      <td>2</td>\n      <td>11.0</td>\n      <td>A</td>\n      <td>2.0</td>\n    </tr>\n    <tr>\n      <th>5</th>\n      <td>2</td>\n      <td>11.0</td>\n      <td>A</td>\n      <td>0.0</td>\n    </tr>\n  </tbody>\n</table>\n</div>"
     },
     "metadata": {},
     "output_type": "display_data"
    },
    {
     "data": {
      "text/plain": "Empty DataFrame\nColumns: [V1, V2, V3, V4]\nIndex: []",
      "text/html": "<div>\n<style scoped>\n    .dataframe tbody tr th:only-of-type {\n        vertical-align: middle;\n    }\n\n    .dataframe tbody tr th {\n        vertical-align: top;\n    }\n\n    .dataframe thead th {\n        text-align: right;\n    }\n</style>\n<table border=\"1\" class=\"dataframe\">\n  <thead>\n    <tr style=\"text-align: right;\">\n      <th></th>\n      <th>V1</th>\n      <th>V2</th>\n      <th>V3</th>\n      <th>V4</th>\n    </tr>\n  </thead>\n  <tbody>\n  </tbody>\n</table>\n</div>"
     },
     "metadata": {},
     "output_type": "display_data"
    }
   ],
   "source": [
    "subset_4 = df[(df.V2 != 10.0) | (df.V4 >= 1.0)]\n",
    "# Проверка, subset_6 должен быть пустой\n",
    "subset_6 = subset_4[(subset_4.V2 == 10) & (subset_4.V4 < 1.0)]\n",
    "display(subset_4.head())\n",
    "display(subset_6)"
   ]
  },
  {
   "cell_type": "markdown",
   "id": "002c85bb-122e-47c0-8016-64afd80ce988",
   "metadata": {},
   "source": [
    "# Задание 10\n",
    "Добавьте следующие колонки в df:\n",
    "\n",
    "1) V5 = V1 + V4\n",
    "2) V6 = **натуральный** логарифм переменной V2"
   ]
  },
  {
   "cell_type": "code",
   "execution_count": 25,
   "id": "d99e49b2-3213-4a6b-9eb8-97118175d9b1",
   "metadata": {},
   "outputs": [
    {
     "data": {
      "text/plain": "   V1    V2 V3   V4   V5      V6\n0   2  13.0  B  1.0  3.0  2.5649\n1  -1   7.0  B  1.0  0.0  1.9459\n2   0  11.0  A  0.0  0.0  2.3979\n3   2  11.0  A  2.0  4.0  2.3979\n4   0  10.0  B -1.0 -1.0  2.3026",
      "text/html": "<div>\n<style scoped>\n    .dataframe tbody tr th:only-of-type {\n        vertical-align: middle;\n    }\n\n    .dataframe tbody tr th {\n        vertical-align: top;\n    }\n\n    .dataframe thead th {\n        text-align: right;\n    }\n</style>\n<table border=\"1\" class=\"dataframe\">\n  <thead>\n    <tr style=\"text-align: right;\">\n      <th></th>\n      <th>V1</th>\n      <th>V2</th>\n      <th>V3</th>\n      <th>V4</th>\n      <th>V5</th>\n      <th>V6</th>\n    </tr>\n  </thead>\n  <tbody>\n    <tr>\n      <th>0</th>\n      <td>2</td>\n      <td>13.0</td>\n      <td>B</td>\n      <td>1.0</td>\n      <td>3.0</td>\n      <td>2.5649</td>\n    </tr>\n    <tr>\n      <th>1</th>\n      <td>-1</td>\n      <td>7.0</td>\n      <td>B</td>\n      <td>1.0</td>\n      <td>0.0</td>\n      <td>1.9459</td>\n    </tr>\n    <tr>\n      <th>2</th>\n      <td>0</td>\n      <td>11.0</td>\n      <td>A</td>\n      <td>0.0</td>\n      <td>0.0</td>\n      <td>2.3979</td>\n    </tr>\n    <tr>\n      <th>3</th>\n      <td>2</td>\n      <td>11.0</td>\n      <td>A</td>\n      <td>2.0</td>\n      <td>4.0</td>\n      <td>2.3979</td>\n    </tr>\n    <tr>\n      <th>4</th>\n      <td>0</td>\n      <td>10.0</td>\n      <td>B</td>\n      <td>-1.0</td>\n      <td>-1.0</td>\n      <td>2.3026</td>\n    </tr>\n  </tbody>\n</table>\n</div>"
     },
     "metadata": {},
     "output_type": "display_data"
    }
   ],
   "source": [
    "df['V5'] = df['V1'] + df['V4']\n",
    "df['V6'] = np.log(df['V2'])\n",
    "display(df.head())"
   ]
  },
  {
   "cell_type": "markdown",
   "id": "68231357-e61c-4cd8-aa11-81cde18b856c",
   "metadata": {},
   "source": [
    "# Задание 11\n",
    "\n",
    "Переименуйте колонки в df.\n",
    "\n",
    "1) V1 -> session_value\n",
    "\n",
    "2) V2 -> group\n",
    "\n",
    "3) V3 -> time\n",
    "\n",
    "4) V4 -> n_users"
   ]
  },
  {
   "cell_type": "code",
   "execution_count": 26,
   "id": "d92e15a0-8cf7-4f99-bb84-3b45b36d6c8d",
   "metadata": {},
   "outputs": [
    {
     "name": "stdout",
     "output_type": "stream",
     "text": [
      "<class 'pandas.core.frame.DataFrame'>\n",
      "RangeIndex: 500 entries, 0 to 499\n",
      "Data columns (total 6 columns):\n",
      " #   Column         Non-Null Count  Dtype  \n",
      "---  ------         --------------  -----  \n",
      " 0   session_value  500 non-null    int64  \n",
      " 1   group          500 non-null    float64\n",
      " 2   time           500 non-null    object \n",
      " 3   n_users        500 non-null    float64\n",
      " 4   V5             500 non-null    float64\n",
      " 5   V6             500 non-null    float64\n",
      "dtypes: float64(4), int64(1), object(1)\n",
      "memory usage: 23.6+ KB\n"
     ]
    }
   ],
   "source": [
    "df.rename(columns={\n",
    "    'V1': 'session_value',\n",
    "    'V2': 'group',\n",
    "    'V3': 'time',\n",
    "    'V4': 'n_users'\n",
    "}, inplace=True)\n",
    "\n",
    "df.info()"
   ]
  },
  {
   "cell_type": "markdown",
   "id": "855d8eb1-d7b2-4908-a404-cfeac1dcf3c0",
   "metadata": {},
   "source": [
    "# Задание 12"
   ]
  },
  {
   "cell_type": "code",
   "execution_count": 27,
   "id": "aa82b450-9804-44f0-8c37-7d1247850132",
   "metadata": {},
   "outputs": [],
   "source": [
    "my_stat = pd.read_csv('https://stepik.org/media/attachments/course/4852/my_stat_1.csv')"
   ]
  },
  {
   "cell_type": "code",
   "execution_count": 93,
   "id": "0ce858ba-5a46-4355-8e02-4051d1c7bf92",
   "metadata": {},
   "outputs": [
    {
     "data": {
      "text/html": [
       "<div>\n",
       "<style scoped>\n",
       "    .dataframe tbody tr th:only-of-type {\n",
       "        vertical-align: middle;\n",
       "    }\n",
       "\n",
       "    .dataframe tbody tr th {\n",
       "        vertical-align: top;\n",
       "    }\n",
       "\n",
       "    .dataframe thead th {\n",
       "        text-align: right;\n",
       "    }\n",
       "</style>\n",
       "<table border=\"1\" class=\"dataframe\">\n",
       "  <thead>\n",
       "    <tr style=\"text-align: right;\">\n",
       "      <th></th>\n",
       "      <th>session_value</th>\n",
       "      <th>time</th>\n",
       "      <th>group</th>\n",
       "      <th>n_users</th>\n",
       "    </tr>\n",
       "  </thead>\n",
       "  <tbody>\n",
       "    <tr>\n",
       "      <th>0</th>\n",
       "      <td>0.0</td>\n",
       "      <td>12</td>\n",
       "      <td>B</td>\n",
       "      <td>9</td>\n",
       "    </tr>\n",
       "    <tr>\n",
       "      <th>1</th>\n",
       "      <td>NaN</td>\n",
       "      <td>11</td>\n",
       "      <td>A</td>\n",
       "      <td>-1</td>\n",
       "    </tr>\n",
       "    <tr>\n",
       "      <th>2</th>\n",
       "      <td>1.0</td>\n",
       "      <td>8</td>\n",
       "      <td>A</td>\n",
       "      <td>1</td>\n",
       "    </tr>\n",
       "    <tr>\n",
       "      <th>3</th>\n",
       "      <td>2.0</td>\n",
       "      <td>9</td>\n",
       "      <td>B</td>\n",
       "      <td>3</td>\n",
       "    </tr>\n",
       "    <tr>\n",
       "      <th>4</th>\n",
       "      <td>2.0</td>\n",
       "      <td>10</td>\n",
       "      <td>B</td>\n",
       "      <td>9</td>\n",
       "    </tr>\n",
       "    <tr>\n",
       "      <th>5</th>\n",
       "      <td>3.0</td>\n",
       "      <td>8</td>\n",
       "      <td>A</td>\n",
       "      <td>8</td>\n",
       "    </tr>\n",
       "    <tr>\n",
       "      <th>6</th>\n",
       "      <td>NaN</td>\n",
       "      <td>11</td>\n",
       "      <td>B</td>\n",
       "      <td>5</td>\n",
       "    </tr>\n",
       "    <tr>\n",
       "      <th>7</th>\n",
       "      <td>0.0</td>\n",
       "      <td>9</td>\n",
       "      <td>A</td>\n",
       "      <td>4</td>\n",
       "    </tr>\n",
       "    <tr>\n",
       "      <th>8</th>\n",
       "      <td>0.0</td>\n",
       "      <td>8</td>\n",
       "      <td>B</td>\n",
       "      <td>-11</td>\n",
       "    </tr>\n",
       "    <tr>\n",
       "      <th>9</th>\n",
       "      <td>0.0</td>\n",
       "      <td>9</td>\n",
       "      <td>A</td>\n",
       "      <td>-20</td>\n",
       "    </tr>\n",
       "  </tbody>\n",
       "</table>\n",
       "</div>"
      ],
      "text/plain": [
       "   session_value  time group  n_users\n",
       "0            0.0    12     B        9\n",
       "1            NaN    11     A       -1\n",
       "2            1.0     8     A        1\n",
       "3            2.0     9     B        3\n",
       "4            2.0    10     B        9\n",
       "5            3.0     8     A        8\n",
       "6            NaN    11     B        5\n",
       "7            0.0     9     A        4\n",
       "8            0.0     8     B      -11\n",
       "9            0.0     9     A      -20"
      ]
     },
     "execution_count": 93,
     "metadata": {},
     "output_type": "execute_result"
    }
   ],
   "source": [
    "my_stat\n"
   ]
  },
  {
   "cell_type": "markdown",
   "id": "d12d217f",
   "metadata": {},
   "source": [
    "В датафрейме ``my_stat`` в колонке ``session_value`` замените все пропущенные значения на нули.\n"
   ]
  },
  {
   "cell_type": "code",
   "execution_count": 28,
   "id": "fa8bbc76",
   "metadata": {},
   "outputs": [
    {
     "data": {
      "text/plain": "   session_value  time group  n_users\n0            0.0    12     B        9\n1            0.0    11     A       -1\n2            1.0     8     A        1\n3            2.0     9     B        3\n4            2.0    10     B        9\n5            3.0     8     A        8\n6            0.0    11     B        5\n7            0.0     9     A        4\n8            0.0     8     B      -11\n9            0.0     9     A      -20",
      "text/html": "<div>\n<style scoped>\n    .dataframe tbody tr th:only-of-type {\n        vertical-align: middle;\n    }\n\n    .dataframe tbody tr th {\n        vertical-align: top;\n    }\n\n    .dataframe thead th {\n        text-align: right;\n    }\n</style>\n<table border=\"1\" class=\"dataframe\">\n  <thead>\n    <tr style=\"text-align: right;\">\n      <th></th>\n      <th>session_value</th>\n      <th>time</th>\n      <th>group</th>\n      <th>n_users</th>\n    </tr>\n  </thead>\n  <tbody>\n    <tr>\n      <th>0</th>\n      <td>0.0</td>\n      <td>12</td>\n      <td>B</td>\n      <td>9</td>\n    </tr>\n    <tr>\n      <th>1</th>\n      <td>0.0</td>\n      <td>11</td>\n      <td>A</td>\n      <td>-1</td>\n    </tr>\n    <tr>\n      <th>2</th>\n      <td>1.0</td>\n      <td>8</td>\n      <td>A</td>\n      <td>1</td>\n    </tr>\n    <tr>\n      <th>3</th>\n      <td>2.0</td>\n      <td>9</td>\n      <td>B</td>\n      <td>3</td>\n    </tr>\n    <tr>\n      <th>4</th>\n      <td>2.0</td>\n      <td>10</td>\n      <td>B</td>\n      <td>9</td>\n    </tr>\n    <tr>\n      <th>5</th>\n      <td>3.0</td>\n      <td>8</td>\n      <td>A</td>\n      <td>8</td>\n    </tr>\n    <tr>\n      <th>6</th>\n      <td>0.0</td>\n      <td>11</td>\n      <td>B</td>\n      <td>5</td>\n    </tr>\n    <tr>\n      <th>7</th>\n      <td>0.0</td>\n      <td>9</td>\n      <td>A</td>\n      <td>4</td>\n    </tr>\n    <tr>\n      <th>8</th>\n      <td>0.0</td>\n      <td>8</td>\n      <td>B</td>\n      <td>-11</td>\n    </tr>\n    <tr>\n      <th>9</th>\n      <td>0.0</td>\n      <td>9</td>\n      <td>A</td>\n      <td>-20</td>\n    </tr>\n  </tbody>\n</table>\n</div>"
     },
     "execution_count": 28,
     "metadata": {},
     "output_type": "execute_result"
    }
   ],
   "source": [
    "my_stat.session_value.fillna(0, inplace=True)\n",
    "my_stat"
   ]
  },
  {
   "cell_type": "markdown",
   "id": "d5e39873",
   "metadata": {},
   "source": [
    "В колонке ``n_users`` замените все отрицательные значения на медианное значение переменной ``n_users`` (без учета отрицательных значений, разумеется)."
   ]
  },
  {
   "cell_type": "code",
   "execution_count": 29,
   "id": "1a81ad99",
   "metadata": {},
   "outputs": [
    {
     "data": {
      "text/plain": "   session_value  time group  n_users\n0            0.0    12     B        9\n1            0.0    11     A        5\n2            1.0     8     A        1\n3            2.0     9     B        3\n4            2.0    10     B        9\n5            3.0     8     A        8\n6            0.0    11     B        5\n7            0.0     9     A        4\n8            0.0     8     B        5\n9            0.0     9     A        5",
      "text/html": "<div>\n<style scoped>\n    .dataframe tbody tr th:only-of-type {\n        vertical-align: middle;\n    }\n\n    .dataframe tbody tr th {\n        vertical-align: top;\n    }\n\n    .dataframe thead th {\n        text-align: right;\n    }\n</style>\n<table border=\"1\" class=\"dataframe\">\n  <thead>\n    <tr style=\"text-align: right;\">\n      <th></th>\n      <th>session_value</th>\n      <th>time</th>\n      <th>group</th>\n      <th>n_users</th>\n    </tr>\n  </thead>\n  <tbody>\n    <tr>\n      <th>0</th>\n      <td>0.0</td>\n      <td>12</td>\n      <td>B</td>\n      <td>9</td>\n    </tr>\n    <tr>\n      <th>1</th>\n      <td>0.0</td>\n      <td>11</td>\n      <td>A</td>\n      <td>5</td>\n    </tr>\n    <tr>\n      <th>2</th>\n      <td>1.0</td>\n      <td>8</td>\n      <td>A</td>\n      <td>1</td>\n    </tr>\n    <tr>\n      <th>3</th>\n      <td>2.0</td>\n      <td>9</td>\n      <td>B</td>\n      <td>3</td>\n    </tr>\n    <tr>\n      <th>4</th>\n      <td>2.0</td>\n      <td>10</td>\n      <td>B</td>\n      <td>9</td>\n    </tr>\n    <tr>\n      <th>5</th>\n      <td>3.0</td>\n      <td>8</td>\n      <td>A</td>\n      <td>8</td>\n    </tr>\n    <tr>\n      <th>6</th>\n      <td>0.0</td>\n      <td>11</td>\n      <td>B</td>\n      <td>5</td>\n    </tr>\n    <tr>\n      <th>7</th>\n      <td>0.0</td>\n      <td>9</td>\n      <td>A</td>\n      <td>4</td>\n    </tr>\n    <tr>\n      <th>8</th>\n      <td>0.0</td>\n      <td>8</td>\n      <td>B</td>\n      <td>5</td>\n    </tr>\n    <tr>\n      <th>9</th>\n      <td>0.0</td>\n      <td>9</td>\n      <td>A</td>\n      <td>5</td>\n    </tr>\n  </tbody>\n</table>\n</div>"
     },
     "execution_count": 29,
     "metadata": {},
     "output_type": "execute_result"
    }
   ],
   "source": [
    "med = int(my_stat[my_stat.n_users >= 0]['n_users'].median())\n",
    "my_stat.loc[my_stat.n_users < 0, 'n_users'] = med\n",
    "my_stat\n"
   ]
  }
 ],
 "metadata": {
  "kernelspec": {
   "display_name": "Python 3.10.4 ('env': venv)",
   "language": "python",
   "name": "python3"
  },
  "language_info": {
   "codemirror_mode": {
    "name": "ipython",
    "version": 3
   },
   "file_extension": ".py",
   "mimetype": "text/x-python",
   "name": "python",
   "nbconvert_exporter": "python",
   "pygments_lexer": "ipython3",
   "version": "3.10.4"
  },
  "vscode": {
   "interpreter": {
    "hash": "af9e5a11c712f5e360e06f5f79a09f1a8c036f7764695241a9b29131bbd4980c"
   }
  }
 },
 "nbformat": 4,
 "nbformat_minor": 5
}
