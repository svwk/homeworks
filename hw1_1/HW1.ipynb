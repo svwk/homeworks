{
 "nbformat": 4,
 "nbformat_minor": 0,
 "metadata": {
  "colab": {
   "provenance": [],
   "collapsed_sections": []
  },
  "kernelspec": {
   "name": "python3",
   "display_name": "Python 3"
  },
  "language_info": {
   "name": "python"
  }
 },
 "cells": [
  {
   "cell_type": "code",
   "execution_count": 1,
   "metadata": {
    "colab": {
     "base_uri": "https://localhost:8080/"
    },
    "id": "_aYjJdIiCXqZ",
    "outputId": "f3a8c90e-01e6-4c43-dcb1-57de3c9f990b"
   },
   "outputs": [
    {
     "name": "stdout",
     "output_type": "stream",
     "text": [
      "Python 3.10.4\r\n"
     ]
    }
   ],
   "source": [
    "!python3 -V"
   ]
  },
  {
   "cell_type": "markdown",
   "source": [
    "****\n",
    "**Задание 1.**\n",
    "\n",
    "Студент магистратуры обычно спит ночью XX часов и устраивает себе днем тихий час на YY минут. Определите, сколько всего студент спит в сутки (если вообще спит). Программа должна принимать значения XX и YY из стандартного потока ввода (функция input), результат надо выводить в стандартный поток вывода (функция print).\n",
    "\n",
    "\n",
    "```\n",
    "Sample Input 1:\n",
    "7\n",
    "30\n",
    "Sample Output 1:\n",
    "450\n",
    "\n",
    "Sample Input 2:\n",
    "0\n",
    "42\n",
    "Sample Output 2:\n",
    "42\n",
    "```\n"
   ],
   "metadata": {
    "id": "7a_LLXLjCeMS"
   }
  },
  {
   "cell_type": "code",
   "source": [
    "# Решение задания 1\n",
    "try:\n",
    "    night_hours_str = input('Сколько часов студент магистратуры обычно спит ночью? ')\n",
    "    if not night_hours_str.isnumeric():\n",
    "        raise ValueError(\n",
    "            \"Введено некорректное значение количества часов, которые студент магистратуры спит ночью. Необходимо ввести целое число\")\n",
    "    night_hours = int(night_hours_str)\n",
    "\n",
    "    day_minutes_str = input('Сколько минут студент магистратуры обычно спит днем? ')\n",
    "    if not day_minutes_str.isnumeric():\n",
    "        raise ValueError(\n",
    "            \"Введено некорректное значение количества минут, которые студент магистратуры спит днем. Необходимо ввести целое число\")\n",
    "    day_minutes = int(day_minutes_str)\n",
    "\n",
    "    print(night_hours * 60 + day_minutes)\n",
    "\n",
    "except ValueError as exc:\n",
    "    print(*exc.args)"
   ],
   "metadata": {
    "id": "gWyFoGkrDGhi"
   },
   "execution_count": 31,
   "outputs": [
    {
     "name": "stdout",
     "output_type": "stream",
     "text": [
      "450\n"
     ]
    }
   ]
  },
  {
   "cell_type": "markdown",
   "source": [
    "****\n",
    "**Задание 2**\n",
    "\n",
    "Студент МФТИ каждый день ложится спать ровно в полночь и недавно узнал, что оптимальное время для его сна составляет XX минут. Он хочет поставить себе будильник так, чтобы он прозвенел ровно через XX минут после полуночи, однако для этого необходимо указать время сигнала в формате часы, минуты. Помогите студенту определить, на какое время завести будильник.\n",
    "Часы и минуты в выводе программы должны располагаться на разных строках\n",
    "\n",
    "```\n",
    "Sample Input 1:\n",
    "480\n",
    "Sample Output 1:\n",
    "8\n",
    "0\n",
    "\n",
    "Sample Input 2:\n",
    "512\n",
    "Sample Output 2:\n",
    "8\n",
    "32\n",
    "```\n"
   ],
   "metadata": {
    "id": "v_npn-j3C8jg"
   }
  },
  {
   "cell_type": "code",
   "source": [
    "#Решение задания 2\n",
    "opt_str = input(\"Введите оптимальное время для сна: \")\n",
    "\n",
    "if not opt_str.isnumeric():\n",
    "    print(\"Введено некорректное значение количества минут. Необходимо ввести целое число\")\n",
    "else:\n",
    "    opt = int(opt_str)\n",
    "    print(opt // 60, opt % 60, sep='\\n')"
   ],
   "metadata": {
    "id": "6jRyzamrCall"
   },
   "execution_count": 105,
   "outputs": [
    {
     "name": "stdout",
     "output_type": "stream",
     "text": [
      "8\n",
      "32\n"
     ]
    }
   ]
  },
  {
   "cell_type": "markdown",
   "source": [
    "****\n",
    "**Задание 3**\n",
    "\n",
    "Студент программы “Анализ данных в медицине” узнал, что ему для сна надо XX минут. В отличие от студента МФТИ, наш студент ложится спать после полуночи в HH часов и MM минут. Помогите определить, на какое время ему поставить будильник, чтобы он прозвенел ровно через XX минут после того, как он ляжет спать.\n",
    "На стандартный ввод, каждое в своей строке, подаются значения XX, HH и MM. Гарантируется, что студент программы “Fнализ данных в медицине” должен проснуться в тот же день, что и заснуть. Программа должна выводить время, на которое нужно поставить будильник: в первой строке часы, во второй — минуты.\n",
    "\n",
    "```\n",
    "Sample Input 1:\n",
    "480\n",
    "1\n",
    "2\n",
    "Sample Output 1:\n",
    "9\n",
    "2\n",
    "Sample Input 2:\n",
    "475\n",
    "1\n",
    "55\n",
    "Sample Output 2:\n",
    "9\n",
    "50\n",
    "\n",
    "```"
   ],
   "metadata": {
    "id": "Vxj4YJbkDMu7"
   }
  },
  {
   "cell_type": "code",
   "source": [
    "#Решение задания 3\n",
    "opt_str = input(\"Введите оптимальное время для сна: \")\n",
    "h_str = input(\"Введите когда студент ложится спать после полуночи в часах: \")\n",
    "m_str = input(\"Введите когда студент ложится спать после полуночи в минутах: \")\n",
    "\n",
    "if opt_str.isnumeric() and h_str.isnumeric() and m_str.isnumeric():\n",
    "    opt = int(opt_str)\n",
    "    hh = int(h_str)\n",
    "    mm = int(m_str)\n",
    "    budilnik = hh * 60 + mm + opt\n",
    "\n",
    "    print(budilnik // 60, budilnik % 60, sep='\\n')\n",
    "\n",
    "else:\n",
    "    if not opt_str.isnumeric():\n",
    "        print(\"Введено некорректное значение оптимального времени для сна. Необходимо ввести целое число\")\n",
    "    if not h_str.isnumeric():\n",
    "        print(\"Введено некорректное значение hh. Необходимо ввести целое число\")\n",
    "    if not m_str.isnumeric():\n",
    "        print(\"Введено некорректное значение mm. Необходимо ввести целое число\")"
   ],
   "metadata": {
    "id": "gjcewJX3DesJ"
   },
   "execution_count": 103,
   "outputs": [
    {
     "name": "stdout",
     "output_type": "stream",
     "text": [
      "9\n",
      "50\n"
     ]
    }
   ]
  },
  {
   "cell_type": "markdown",
   "source": [
    "****\n",
    "**Задание 4**\n",
    "\n",
    "Напишите программу, на вход которой подается список чисел одной строкой. Программа должна для каждого элемента этого списка вывести сумму двух его соседей. Для элементов списка, являющихся крайними, одним из соседей считается элемент, находящийся на противоположном конце этого списка. Например, если на вход подаётся список \"1 3 5 6 10\", то на выход ожидается список \"13 6 9 15 7\" (без кавычек).\n",
    "\n",
    "Если на вход пришло только одно число, надо вывести его же.\n",
    "Вывод должен содержать одну строку с числами нового списка, разделенными пробелом.\n",
    "\n",
    "\n",
    "```\n",
    "Sample Input 1:\n",
    "1 3 5 6 10\n",
    "Sample Output 1:\n",
    "13 6 9 15 7\n",
    "Sample Input 2:\n",
    "10\n",
    "Sample Output 2:\n",
    "10\n",
    "```\n"
   ],
   "metadata": {
    "id": "7g7d57UYDgj5"
   }
  },
  {
   "cell_type": "code",
   "source": [
    "#Решение задания 4\n",
    "numbers_str = input(\"Введите последовательность чисел через пробел: \")\n",
    "numbers_list = [int(item) for item in numbers_str.split(' ')]\n",
    "list_len=len(numbers_list)\n",
    "\n",
    "if list_len == 0:\n",
    "    print(\"\")\n",
    "elif list_len == 1:\n",
    "    print(*numbers_list)\n",
    "else:\n",
    "    result_list = [numbers_list[i - 1] + numbers_list[(i + 1) % list_len] for i, item in enumerate(numbers_list)]\n",
    "    print(*result_list)"
   ],
   "metadata": {
    "id": "lZuiLojnDpDI"
   },
   "execution_count": 102,
   "outputs": [
    {
     "name": "stdout",
     "output_type": "stream",
     "text": [
      "13 6 9 15 7\n"
     ]
    }
   ]
  },
  {
   "cell_type": "markdown",
   "source": [
    "****\n",
    "**Задание 5**\n",
    "\n",
    "Напишите программу, которая принимает на вход список чисел в одной строке и выводит на экран в одну строку значения, которые встречаются в нём более одного раза.\n",
    "\n",
    "Для решения задачи может пригодиться метод sort списка (а может и не пригодиться).\n",
    "\n",
    "Выводимые числа не должны повторяться, порядок их вывода может быть произвольным. Разделитель чисел - пробел\n",
    "\n",
    "```\n",
    "Sample Input 1:\n",
    "1 3 2 3 5 1 6 8 5 4 10\n",
    "Sample Output 1:\n",
    "1 3 5\n",
    "Sample Input 2:\n",
    "10 0 -8 7 3 11 7 18 3 0 3\n",
    "Sample Output 2:\n",
    "0 3 7\n",
    "```\n"
   ],
   "metadata": {
    "id": "C9DdzDwdDvlG"
   }
  },
  {
   "cell_type": "code",
   "source": [
    "#Решение задания 5\n",
    "numbers_str = input(\"Введите последовательность чисел через пробел: \")\n",
    "\n",
    "numbers_list = [int(item) for item in numbers_str.split(' ')]\n",
    "numbers_set = set(numbers_list)\n",
    "result_list = []\n",
    "\n",
    "for number in numbers_set:\n",
    "    if numbers_list.count(number) > 1:\n",
    "        result_list.append(number)\n",
    "\n",
    "print(*result_list)"
   ],
   "metadata": {
    "id": "7DJQuzktD8xZ"
   },
   "execution_count": 98,
   "outputs": [
    {
     "name": "stdout",
     "output_type": "stream",
     "text": [
      "0 3 7\n"
     ]
    }
   ]
  },
  {
   "cell_type": "markdown",
   "source": [
    "****\n",
    "**Задание 6**\n",
    "\n",
    "GC-состав является важной характеристикой геномных последовательностей и определяется как процентное соотношение суммы всех гуанинов и цитозинов к общему числу нуклеиновых оснований в геномной последовательности.\n",
    "\n",
    "Напишите программу, которая вычисляет процентное содержание символов G (гуанин) и C (цитозин) в введенной строке (программа не должна зависеть от регистра вводимых символов).\n",
    "Например, в строке \"acggtgttat\" процентное содержание символов G и C равно 4*0.1 * 100 = 40.0, где 4 - это количество символов G и C, а 10 - это длина строки.\n",
    "\n",
    "```\n",
    "Sample Input:\n",
    "acggtgttat\n",
    "Sample Output:\n",
    "40.0\n",
    "```\n"
   ],
   "metadata": {
    "id": "g1S48qv6EHjC"
   }
  },
  {
   "cell_type": "code",
   "execution_count": 65,
   "outputs": [
    {
     "name": "stdout",
     "output_type": "stream",
     "text": [
      "40.0\n"
     ]
    }
   ],
   "source": [
    "#Решение задания 6\n",
    "genom = input('Введите геномную последовательность: ').lower()\n",
    "\n",
    "content_relative = (genom.count('g') + genom.count('c')) / len(genom) * 100\n",
    "\n",
    "print(content_relative)"
   ],
   "metadata": {
    "collapsed": false
   }
  },
  {
   "cell_type": "markdown",
   "source": [
    "****\n",
    "**Задание 7**\n",
    "\n",
    "Узнав, что ДНК не является случайной строкой, только что поступившие в МФТИ студенты группы аналитиков данных предложили использовать алгоритм сжатия, который сжимает повторяющиеся символы в строке.\n",
    "Кодирование осуществляется следующим образом:\n",
    "s = 'aaaabbсaa' преобразуется в 'a4b2с1a2', то есть группы одинаковых символов исходной строки заменяются на этот символ и количество его повторений в этой позиции строки.\n",
    "\n",
    "Напишите программу, которая считывает строку, кодирует её предложенным алгоритмом и выводит закодированную последовательность на стандартный вывод. Кодирование должно учитывать регистр символов.\n",
    "\n",
    "\n",
    "```\n",
    "Sample Input 1:\n",
    "aaaabbcaa\n",
    "Sample Output 1:\n",
    "a4b2c1a2\n",
    "Sample Input 2:\n",
    "abc\n",
    "Sample Output 2:\n",
    "a1b1c1\n",
    "Sample Input 3:\n",
    "AaAaBBBbbbCCc\n",
    "Sample Output 3:\n",
    "A1a1A1a1B3b3C2c1\n",
    "```\n"
   ],
   "metadata": {
    "id": "Hm7d16upETUx"
   }
  },
  {
   "cell_type": "code",
   "source": [
    "#Решение задания 7\n",
    "genom = input('Введите геномную последовательность: ')\n",
    "\n",
    "result_list = []\n",
    "prev = None\n",
    "symbol_count = 0\n",
    "\n",
    "for symbol in genom:\n",
    "    if symbol != prev or prev is None:\n",
    "        if prev is not None:\n",
    "            result_list.extend([prev, str(symbol_count)])\n",
    "        prev = symbol\n",
    "        symbol_count = 1\n",
    "    else:\n",
    "        symbol_count += 1\n",
    "\n",
    "result_list.extend([prev, str(symbol_count)])\n",
    "\n",
    "print(\"\".join(result_list))"
   ],
   "metadata": {
    "id": "Gu7FS9kAEe2Q"
   },
   "execution_count": 76,
   "outputs": [
    {
     "name": "stdout",
     "output_type": "stream",
     "text": [
      "A1a1A1a1B3b3C2c1\n"
     ]
    }
   ]
  },
  {
   "cell_type": "markdown",
   "source": [
    "****\n",
    "**Задание 8**\n",
    "\n",
    "Напишите программу, которая считывает с консоли числа (по одному в строке) до тех пор, пока сумма введённых чисел не будет равна 0 и сразу после этого выводит сумму квадратов всех считанных чисел.\n",
    "Гарантируется, что в какой-то момент сумма введённых чисел окажется равной 0, после этого считывание продолжать не нужно.\n",
    "В примере мы считываем числа 1, -3, 5, -6, -10, 13; в этот момент замечаем, что сумма этих чисел равна нулю и выводим сумму их квадратов, не обращая внимания на то, что остались ещё не прочитанные значения.\n",
    "\n",
    "\n",
    "```\n",
    "Sample Input:\n",
    "1\n",
    "-3\n",
    "5\n",
    "-6\n",
    "-10\n",
    "13\n",
    "4\n",
    "-8\n",
    "Sample Output:\n",
    "340\n",
    "```"
   ],
   "metadata": {
    "id": "Ky16NUTNEpr-"
   }
  },
  {
   "cell_type": "code",
   "source": [
    "#Решение задания 8\n",
    "number_sum = int(input('Введите число: '))\n",
    "square_sum = number_sum ** 2\n",
    "\n",
    "while number_sum != 0:\n",
    "    number = int(input('Введите число'))\n",
    "    number_sum += number\n",
    "    square_sum += number ** 2\n",
    "\n",
    "print(square_sum)"
   ],
   "metadata": {
    "id": "gSs8AHixFMwU"
   },
   "execution_count": 77,
   "outputs": [
    {
     "name": "stdout",
     "output_type": "stream",
     "text": [
      "340\n"
     ]
    }
   ]
  },
  {
   "cell_type": "markdown",
   "source": [
    "****\n",
    "**Задание 9**\n",
    "\n",
    "Самое время использовать математику. Вы поднимаетесь по лестнице. Количество ступенек в ней = n.\n",
    "\n",
    "На каждом этапе вы можете переступить либо одну, либо две ступеньки. Как много уникальных способов добраться до верха существует?\n",
    "\n",
    "*1<=n<=45*\n",
    "\n",
    "\n",
    "\n",
    "```\n",
    "Input: n = 2\n",
    "Output: 2\n",
    "Explanation: There are two ways to climb to the top.\n",
    "1. 1 step + 1 step\n",
    "2. 2 steps\n",
    "\n",
    "Input: n = 3\n",
    "Output: 3\n",
    "Explanation: There are three ways to climb to the top.\n",
    "1. 1 step + 1 step + 1 step\n",
    "2. 1 step + 2 steps\n",
    "3. 2 steps + 1 step\n",
    "\n",
    "Input: n = 4\n",
    "Output: 5\n",
    "\n",
    "Input: n = 5\n",
    "Output: 8\n",
    "\n",
    "Input: n = 7\n",
    "Output: 21\n",
    "\n",
    "```\n",
    "\n"
   ],
   "metadata": {
    "id": "bPeSnwt4F73y"
   }
  },
  {
   "cell_type": "code",
   "source": [
    "#Решение задания 9\n",
    "steps_count = int(input('Введите число ступеней (целое больше 0 и меньше 45): '))\n",
    "\n",
    "prev = 1\n",
    "prev_prev = 0\n",
    "\n",
    "for number in range(steps_count):\n",
    "    uniq_vars = prev_prev + prev\n",
    "    prev_prev = prev\n",
    "    prev = uniq_vars\n",
    "\n",
    "print(prev)"
   ],
   "metadata": {
    "id": "HNhjOQZ7GdI5"
   },
   "execution_count": 84,
   "outputs": [
    {
     "name": "stdout",
     "output_type": "stream",
     "text": [
      "21\n"
     ]
    }
   ]
  },
  {
   "cell_type": "markdown",
   "source": [
    "****\n",
    "**Задание 10**\n",
    "\n",
    "Напишите функцию, чтобы найти самый длинный префикс в листе, составленном из строк.\n",
    "\n",
    "Если общего префикса нет - верните пустую строку.\n",
    "\n",
    "\n",
    "\n",
    "```\n",
    "Input 1: strs = [\"flower\",\"flow\",\"flight\"]\n",
    "Output 1: \"fl\"\n",
    "\n",
    "Input 2: strs = [\"dog\",\"racecar\",\"car\"]\n",
    "Output 2: \"\"\n",
    "Explanation: There is no common prefix among the input strings.\n",
    "```\n",
    "\n"
   ],
   "metadata": {
    "id": "T8A0EHJTG03s"
   }
  },
  {
   "cell_type": "code",
   "source": [
    "#Решение задания 10\n",
    "def get_prefix(srt_list):\n",
    "    if len(srt_list) < 2:\n",
    "        return \"\"\n",
    "\n",
    "    prefix = \"\"\n",
    "\n",
    "    for index, symb in enumerate(srt_list[0]):\n",
    "        for word in srt_list[1:]:\n",
    "            if index >= len(word) or symb != word[index]:\n",
    "                return prefix\n",
    "        prefix += symb\n",
    "    return prefix\n",
    "\n",
    "print(get_prefix([\"flower\", \"flow\", \"flight\"]))\n",
    "print(get_prefix([\"bitrix\", \"bitrate\", \"bitcoin\", \"bitbucket\"]))\n",
    "print(get_prefix([\"dog\", \"racecar\", \"car\"]))\n",
    "print(get_prefix([\"flower\"]))\n"
   ],
   "metadata": {
    "id": "T-TeO2QoHIMR"
   },
   "execution_count": 96,
   "outputs": [
    {
     "name": "stdout",
     "output_type": "stream",
     "text": [
      "fl\n",
      "bit\n",
      "\n",
      "\n"
     ]
    }
   ]
  }
 ]
}
